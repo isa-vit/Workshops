{
 "cells": [
  {
   "cell_type": "code",
   "execution_count": 1,
   "metadata": {},
   "outputs": [],
   "source": [
    "import pandas as pd\n",
    "import numpy as np\n",
    "import matplotlib.pyplot as plt"
   ]
  },
  {
   "cell_type": "code",
   "execution_count": 2,
   "metadata": {},
   "outputs": [
    {
     "name": "stderr",
     "output_type": "stream",
     "text": [
      "C:\\Users\\aryam\\anaconda3\\lib\\site-packages\\IPython\\core\\interactiveshell.py:3146: DtypeWarning: Columns (33) have mixed types.Specify dtype option on import or set low_memory=False.\n",
      "  interactivity=interactivity, compiler=compiler, result=result)\n"
     ]
    }
   ],
   "source": [
    "\n",
    "data = pd.read_csv(\"Data-Collisions.csv\")"
   ]
  },
  {
   "cell_type": "code",
   "execution_count": 3,
   "metadata": {},
   "outputs": [
    {
     "name": "stdout",
     "output_type": "stream",
     "text": [
      "Total Rows: 194673\n"
     ]
    },
    {
     "data": {
      "text/plain": [
       "1    136485\n",
       "2     58188\n",
       "Name: SEVERITYCODE, dtype: int64"
      ]
     },
     "execution_count": 3,
     "metadata": {},
     "output_type": "execute_result"
    }
   ],
   "source": [
    "print(\"Total Rows:\", len(data))\n",
    "data[\"SEVERITYCODE\"].value_counts(dropna=False)"
   ]
  },
  {
   "cell_type": "code",
   "execution_count": 4,
   "metadata": {},
   "outputs": [
    {
     "data": {
      "text/html": [
       "<div>\n",
       "<style scoped>\n",
       "    .dataframe tbody tr th:only-of-type {\n",
       "        vertical-align: middle;\n",
       "    }\n",
       "\n",
       "    .dataframe tbody tr th {\n",
       "        vertical-align: top;\n",
       "    }\n",
       "\n",
       "    .dataframe thead th {\n",
       "        text-align: right;\n",
       "    }\n",
       "</style>\n",
       "<table border=\"1\" class=\"dataframe\">\n",
       "  <thead>\n",
       "    <tr style=\"text-align: right;\">\n",
       "      <th></th>\n",
       "      <th>Data Types</th>\n",
       "      <th>Null Values</th>\n",
       "    </tr>\n",
       "  </thead>\n",
       "  <tbody>\n",
       "    <tr>\n",
       "      <th>PEDROWNOTGRNT</th>\n",
       "      <td>object</td>\n",
       "      <td>190006</td>\n",
       "    </tr>\n",
       "    <tr>\n",
       "      <th>EXCEPTRSNDESC</th>\n",
       "      <td>object</td>\n",
       "      <td>189035</td>\n",
       "    </tr>\n",
       "    <tr>\n",
       "      <th>SPEEDING</th>\n",
       "      <td>object</td>\n",
       "      <td>185340</td>\n",
       "    </tr>\n",
       "    <tr>\n",
       "      <th>INATTENTIONIND</th>\n",
       "      <td>object</td>\n",
       "      <td>164868</td>\n",
       "    </tr>\n",
       "    <tr>\n",
       "      <th>INTKEY</th>\n",
       "      <td>float64</td>\n",
       "      <td>129603</td>\n",
       "    </tr>\n",
       "    <tr>\n",
       "      <th>EXCEPTRSNCODE</th>\n",
       "      <td>object</td>\n",
       "      <td>109862</td>\n",
       "    </tr>\n",
       "    <tr>\n",
       "      <th>SDOTCOLNUM</th>\n",
       "      <td>float64</td>\n",
       "      <td>79737</td>\n",
       "    </tr>\n",
       "    <tr>\n",
       "      <th>JUNCTIONTYPE</th>\n",
       "      <td>object</td>\n",
       "      <td>6329</td>\n",
       "    </tr>\n",
       "    <tr>\n",
       "      <th>X</th>\n",
       "      <td>float64</td>\n",
       "      <td>5334</td>\n",
       "    </tr>\n",
       "    <tr>\n",
       "      <th>Y</th>\n",
       "      <td>float64</td>\n",
       "      <td>5334</td>\n",
       "    </tr>\n",
       "    <tr>\n",
       "      <th>LIGHTCOND</th>\n",
       "      <td>object</td>\n",
       "      <td>5170</td>\n",
       "    </tr>\n",
       "    <tr>\n",
       "      <th>WEATHER</th>\n",
       "      <td>object</td>\n",
       "      <td>5081</td>\n",
       "    </tr>\n",
       "    <tr>\n",
       "      <th>ROADCOND</th>\n",
       "      <td>object</td>\n",
       "      <td>5012</td>\n",
       "    </tr>\n",
       "    <tr>\n",
       "      <th>ST_COLDESC</th>\n",
       "      <td>object</td>\n",
       "      <td>4904</td>\n",
       "    </tr>\n",
       "    <tr>\n",
       "      <th>COLLISIONTYPE</th>\n",
       "      <td>object</td>\n",
       "      <td>4904</td>\n",
       "    </tr>\n",
       "    <tr>\n",
       "      <th>UNDERINFL</th>\n",
       "      <td>object</td>\n",
       "      <td>4884</td>\n",
       "    </tr>\n",
       "    <tr>\n",
       "      <th>LOCATION</th>\n",
       "      <td>object</td>\n",
       "      <td>2677</td>\n",
       "    </tr>\n",
       "    <tr>\n",
       "      <th>ADDRTYPE</th>\n",
       "      <td>object</td>\n",
       "      <td>1926</td>\n",
       "    </tr>\n",
       "    <tr>\n",
       "      <th>ST_COLCODE</th>\n",
       "      <td>object</td>\n",
       "      <td>18</td>\n",
       "    </tr>\n",
       "    <tr>\n",
       "      <th>SDOT_COLDESC</th>\n",
       "      <td>object</td>\n",
       "      <td>0</td>\n",
       "    </tr>\n",
       "    <tr>\n",
       "      <th>SEGLANEKEY</th>\n",
       "      <td>int64</td>\n",
       "      <td>0</td>\n",
       "    </tr>\n",
       "    <tr>\n",
       "      <th>CROSSWALKKEY</th>\n",
       "      <td>int64</td>\n",
       "      <td>0</td>\n",
       "    </tr>\n",
       "    <tr>\n",
       "      <th>SEVERITYCODE</th>\n",
       "      <td>int64</td>\n",
       "      <td>0</td>\n",
       "    </tr>\n",
       "    <tr>\n",
       "      <th>VEHCOUNT</th>\n",
       "      <td>int64</td>\n",
       "      <td>0</td>\n",
       "    </tr>\n",
       "    <tr>\n",
       "      <th>SDOT_COLCODE</th>\n",
       "      <td>int64</td>\n",
       "      <td>0</td>\n",
       "    </tr>\n",
       "    <tr>\n",
       "      <th>INCDTTM</th>\n",
       "      <td>object</td>\n",
       "      <td>0</td>\n",
       "    </tr>\n",
       "    <tr>\n",
       "      <th>INCDATE</th>\n",
       "      <td>object</td>\n",
       "      <td>0</td>\n",
       "    </tr>\n",
       "    <tr>\n",
       "      <th>PEDCYLCOUNT</th>\n",
       "      <td>int64</td>\n",
       "      <td>0</td>\n",
       "    </tr>\n",
       "    <tr>\n",
       "      <th>PEDCOUNT</th>\n",
       "      <td>int64</td>\n",
       "      <td>0</td>\n",
       "    </tr>\n",
       "    <tr>\n",
       "      <th>PERSONCOUNT</th>\n",
       "      <td>int64</td>\n",
       "      <td>0</td>\n",
       "    </tr>\n",
       "    <tr>\n",
       "      <th>SEVERITYDESC</th>\n",
       "      <td>object</td>\n",
       "      <td>0</td>\n",
       "    </tr>\n",
       "    <tr>\n",
       "      <th>SEVERITYCODE.1</th>\n",
       "      <td>int64</td>\n",
       "      <td>0</td>\n",
       "    </tr>\n",
       "    <tr>\n",
       "      <th>STATUS</th>\n",
       "      <td>object</td>\n",
       "      <td>0</td>\n",
       "    </tr>\n",
       "    <tr>\n",
       "      <th>REPORTNO</th>\n",
       "      <td>object</td>\n",
       "      <td>0</td>\n",
       "    </tr>\n",
       "    <tr>\n",
       "      <th>COLDETKEY</th>\n",
       "      <td>int64</td>\n",
       "      <td>0</td>\n",
       "    </tr>\n",
       "    <tr>\n",
       "      <th>INCKEY</th>\n",
       "      <td>int64</td>\n",
       "      <td>0</td>\n",
       "    </tr>\n",
       "    <tr>\n",
       "      <th>OBJECTID</th>\n",
       "      <td>int64</td>\n",
       "      <td>0</td>\n",
       "    </tr>\n",
       "    <tr>\n",
       "      <th>HITPARKEDCAR</th>\n",
       "      <td>object</td>\n",
       "      <td>0</td>\n",
       "    </tr>\n",
       "  </tbody>\n",
       "</table>\n",
       "</div>"
      ],
      "text/plain": [
       "               Data Types  Null Values\n",
       "PEDROWNOTGRNT      object       190006\n",
       "EXCEPTRSNDESC      object       189035\n",
       "SPEEDING           object       185340\n",
       "INATTENTIONIND     object       164868\n",
       "INTKEY            float64       129603\n",
       "EXCEPTRSNCODE      object       109862\n",
       "SDOTCOLNUM        float64        79737\n",
       "JUNCTIONTYPE       object         6329\n",
       "X                 float64         5334\n",
       "Y                 float64         5334\n",
       "LIGHTCOND          object         5170\n",
       "WEATHER            object         5081\n",
       "ROADCOND           object         5012\n",
       "ST_COLDESC         object         4904\n",
       "COLLISIONTYPE      object         4904\n",
       "UNDERINFL          object         4884\n",
       "LOCATION           object         2677\n",
       "ADDRTYPE           object         1926\n",
       "ST_COLCODE         object           18\n",
       "SDOT_COLDESC       object            0\n",
       "SEGLANEKEY          int64            0\n",
       "CROSSWALKKEY        int64            0\n",
       "SEVERITYCODE        int64            0\n",
       "VEHCOUNT            int64            0\n",
       "SDOT_COLCODE        int64            0\n",
       "INCDTTM            object            0\n",
       "INCDATE            object            0\n",
       "PEDCYLCOUNT         int64            0\n",
       "PEDCOUNT            int64            0\n",
       "PERSONCOUNT         int64            0\n",
       "SEVERITYDESC       object            0\n",
       "SEVERITYCODE.1      int64            0\n",
       "STATUS             object            0\n",
       "REPORTNO           object            0\n",
       "COLDETKEY           int64            0\n",
       "INCKEY              int64            0\n",
       "OBJECTID            int64            0\n",
       "HITPARKEDCAR       object            0"
      ]
     },
     "execution_count": 4,
     "metadata": {},
     "output_type": "execute_result"
    }
   ],
   "source": [
    "pd.concat([data.dtypes, data.isna().sum()], axis=1, \n",
    "          keys=[\"Data Types\", \"Null Values\"]).sort_values(by=[\"Null Values\"], ascending=False)"
   ]
  },
  {
   "cell_type": "code",
   "execution_count": 5,
   "metadata": {},
   "outputs": [
    {
     "data": {
      "text/html": [
       "<div>\n",
       "<style scoped>\n",
       "    .dataframe tbody tr th:only-of-type {\n",
       "        vertical-align: middle;\n",
       "    }\n",
       "\n",
       "    .dataframe tbody tr th {\n",
       "        vertical-align: top;\n",
       "    }\n",
       "\n",
       "    .dataframe thead th {\n",
       "        text-align: right;\n",
       "    }\n",
       "</style>\n",
       "<table border=\"1\" class=\"dataframe\">\n",
       "  <thead>\n",
       "    <tr style=\"text-align: right;\">\n",
       "      <th></th>\n",
       "      <th>Data Types</th>\n",
       "      <th>Null Values</th>\n",
       "    </tr>\n",
       "  </thead>\n",
       "  <tbody>\n",
       "    <tr>\n",
       "      <th>SDOTCOLNUM</th>\n",
       "      <td>float64</td>\n",
       "      <td>79737</td>\n",
       "    </tr>\n",
       "    <tr>\n",
       "      <th>JUNCTIONTYPE</th>\n",
       "      <td>object</td>\n",
       "      <td>6329</td>\n",
       "    </tr>\n",
       "    <tr>\n",
       "      <th>Y</th>\n",
       "      <td>float64</td>\n",
       "      <td>5334</td>\n",
       "    </tr>\n",
       "    <tr>\n",
       "      <th>X</th>\n",
       "      <td>float64</td>\n",
       "      <td>5334</td>\n",
       "    </tr>\n",
       "    <tr>\n",
       "      <th>LIGHTCOND</th>\n",
       "      <td>object</td>\n",
       "      <td>5170</td>\n",
       "    </tr>\n",
       "    <tr>\n",
       "      <th>WEATHER</th>\n",
       "      <td>object</td>\n",
       "      <td>5081</td>\n",
       "    </tr>\n",
       "    <tr>\n",
       "      <th>ROADCOND</th>\n",
       "      <td>object</td>\n",
       "      <td>5012</td>\n",
       "    </tr>\n",
       "    <tr>\n",
       "      <th>ST_COLDESC</th>\n",
       "      <td>object</td>\n",
       "      <td>4904</td>\n",
       "    </tr>\n",
       "    <tr>\n",
       "      <th>COLLISIONTYPE</th>\n",
       "      <td>object</td>\n",
       "      <td>4904</td>\n",
       "    </tr>\n",
       "    <tr>\n",
       "      <th>UNDERINFL</th>\n",
       "      <td>object</td>\n",
       "      <td>4884</td>\n",
       "    </tr>\n",
       "    <tr>\n",
       "      <th>LOCATION</th>\n",
       "      <td>object</td>\n",
       "      <td>2677</td>\n",
       "    </tr>\n",
       "    <tr>\n",
       "      <th>ADDRTYPE</th>\n",
       "      <td>object</td>\n",
       "      <td>1926</td>\n",
       "    </tr>\n",
       "    <tr>\n",
       "      <th>ST_COLCODE</th>\n",
       "      <td>object</td>\n",
       "      <td>18</td>\n",
       "    </tr>\n",
       "    <tr>\n",
       "      <th>SDOT_COLDESC</th>\n",
       "      <td>object</td>\n",
       "      <td>0</td>\n",
       "    </tr>\n",
       "    <tr>\n",
       "      <th>SEVERITYCODE</th>\n",
       "      <td>int64</td>\n",
       "      <td>0</td>\n",
       "    </tr>\n",
       "    <tr>\n",
       "      <th>SEGLANEKEY</th>\n",
       "      <td>int64</td>\n",
       "      <td>0</td>\n",
       "    </tr>\n",
       "    <tr>\n",
       "      <th>CROSSWALKKEY</th>\n",
       "      <td>int64</td>\n",
       "      <td>0</td>\n",
       "    </tr>\n",
       "    <tr>\n",
       "      <th>SDOT_COLCODE</th>\n",
       "      <td>int64</td>\n",
       "      <td>0</td>\n",
       "    </tr>\n",
       "    <tr>\n",
       "      <th>VEHCOUNT</th>\n",
       "      <td>int64</td>\n",
       "      <td>0</td>\n",
       "    </tr>\n",
       "    <tr>\n",
       "      <th>INCDTTM</th>\n",
       "      <td>object</td>\n",
       "      <td>0</td>\n",
       "    </tr>\n",
       "    <tr>\n",
       "      <th>INCDATE</th>\n",
       "      <td>object</td>\n",
       "      <td>0</td>\n",
       "    </tr>\n",
       "    <tr>\n",
       "      <th>PEDCYLCOUNT</th>\n",
       "      <td>int64</td>\n",
       "      <td>0</td>\n",
       "    </tr>\n",
       "    <tr>\n",
       "      <th>PEDCOUNT</th>\n",
       "      <td>int64</td>\n",
       "      <td>0</td>\n",
       "    </tr>\n",
       "    <tr>\n",
       "      <th>PERSONCOUNT</th>\n",
       "      <td>int64</td>\n",
       "      <td>0</td>\n",
       "    </tr>\n",
       "    <tr>\n",
       "      <th>SEVERITYDESC</th>\n",
       "      <td>object</td>\n",
       "      <td>0</td>\n",
       "    </tr>\n",
       "    <tr>\n",
       "      <th>SEVERITYCODE.1</th>\n",
       "      <td>int64</td>\n",
       "      <td>0</td>\n",
       "    </tr>\n",
       "    <tr>\n",
       "      <th>STATUS</th>\n",
       "      <td>object</td>\n",
       "      <td>0</td>\n",
       "    </tr>\n",
       "    <tr>\n",
       "      <th>REPORTNO</th>\n",
       "      <td>object</td>\n",
       "      <td>0</td>\n",
       "    </tr>\n",
       "    <tr>\n",
       "      <th>COLDETKEY</th>\n",
       "      <td>int64</td>\n",
       "      <td>0</td>\n",
       "    </tr>\n",
       "    <tr>\n",
       "      <th>INCKEY</th>\n",
       "      <td>int64</td>\n",
       "      <td>0</td>\n",
       "    </tr>\n",
       "    <tr>\n",
       "      <th>OBJECTID</th>\n",
       "      <td>int64</td>\n",
       "      <td>0</td>\n",
       "    </tr>\n",
       "    <tr>\n",
       "      <th>HITPARKEDCAR</th>\n",
       "      <td>object</td>\n",
       "      <td>0</td>\n",
       "    </tr>\n",
       "  </tbody>\n",
       "</table>\n",
       "</div>"
      ],
      "text/plain": [
       "               Data Types  Null Values\n",
       "SDOTCOLNUM        float64        79737\n",
       "JUNCTIONTYPE       object         6329\n",
       "Y                 float64         5334\n",
       "X                 float64         5334\n",
       "LIGHTCOND          object         5170\n",
       "WEATHER            object         5081\n",
       "ROADCOND           object         5012\n",
       "ST_COLDESC         object         4904\n",
       "COLLISIONTYPE      object         4904\n",
       "UNDERINFL          object         4884\n",
       "LOCATION           object         2677\n",
       "ADDRTYPE           object         1926\n",
       "ST_COLCODE         object           18\n",
       "SDOT_COLDESC       object            0\n",
       "SEVERITYCODE        int64            0\n",
       "SEGLANEKEY          int64            0\n",
       "CROSSWALKKEY        int64            0\n",
       "SDOT_COLCODE        int64            0\n",
       "VEHCOUNT            int64            0\n",
       "INCDTTM            object            0\n",
       "INCDATE            object            0\n",
       "PEDCYLCOUNT         int64            0\n",
       "PEDCOUNT            int64            0\n",
       "PERSONCOUNT         int64            0\n",
       "SEVERITYDESC       object            0\n",
       "SEVERITYCODE.1      int64            0\n",
       "STATUS             object            0\n",
       "REPORTNO           object            0\n",
       "COLDETKEY           int64            0\n",
       "INCKEY              int64            0\n",
       "OBJECTID            int64            0\n",
       "HITPARKEDCAR       object            0"
      ]
     },
     "execution_count": 5,
     "metadata": {},
     "output_type": "execute_result"
    }
   ],
   "source": [
    "# dropping features with more than 50% missing values\n",
    "data.drop(columns=[\"PEDROWNOTGRNT\", \"EXCEPTRSNDESC\", \"SPEEDING\", \"INATTENTIONIND\", \"INTKEY\", \"EXCEPTRSNCODE\"], inplace=True)\n",
    "pd.concat([data.dtypes, data.isna().sum()], axis=1, \n",
    "          keys=[\"Data Types\", \"Null Values\"]).sort_values(by=[\"Null Values\"], ascending=False)"
   ]
  },
  {
   "cell_type": "code",
   "execution_count": 6,
   "metadata": {},
   "outputs": [
    {
     "name": "stdout",
     "output_type": "stream",
     "text": [
      "194673 rows matched.\n",
      "194673 rows matched.\n"
     ]
    }
   ],
   "source": [
    "# Checking the severitycode and its related columns\n",
    "print(sum(data[\"SEVERITYCODE\"] == data[\"SEVERITYCODE.1\"]), \"rows matched.\")\n",
    "ref = {\"Property Damage Only Collision\":1, \"Injury Collision\":2}\n",
    "print(sum(data[\"SEVERITYCODE\"] == data[\"SEVERITYDESC\"].apply(lambda x: ref[x])), \"rows matched.\")"
   ]
  },
  {
   "cell_type": "code",
   "execution_count": 7,
   "metadata": {},
   "outputs": [],
   "source": [
    "import seaborn as sns\n",
    "sns.set(style=\"darkgrid\")"
   ]
  },
  {
   "cell_type": "code",
   "execution_count": 8,
   "metadata": {},
   "outputs": [
    {
     "name": "stderr",
     "output_type": "stream",
     "text": [
      "C:\\Users\\aryam\\anaconda3\\lib\\site-packages\\ipykernel_launcher.py:2: UserWarning: FixedFormatter should only be used together with FixedLocator\n",
      "  \n"
     ]
    },
    {
     "data": {
      "image/png": "[encoded data removed]",
      "text/plain": [
       "<Figure size 432x288 with 1 Axes>"
      ]
     },
     "metadata": {},
     "output_type": "display_data"
    }
   ],
   "source": [
    "ax = sns.countplot(y=\"JUNCTIONTYPE\", hue=\"SEVERITYCODE\", data=data)\n",
    "ax.set_xticklabels(ax.get_xticklabels(), rotation=90)\n",
    "plt.legend(loc='lower right')\n",
    "plt.show()"
   ]
  },
  {
   "cell_type": "code",
   "execution_count": 9,
   "metadata": {},
   "outputs": [
    {
     "name": "stderr",
     "output_type": "stream",
     "text": [
      "C:\\Users\\aryam\\anaconda3\\lib\\site-packages\\ipykernel_launcher.py:2: UserWarning: FixedFormatter should only be used together with FixedLocator\n",
      "  \n"
     ]
    },
    {
     "data": {
      "image/png": "[encoded data removed]",
      "text/plain": [
       "<Figure size 432x288 with 1 Axes>"
      ]
     },
     "metadata": {},
     "output_type": "display_data"
    }
   ],
   "source": [
    "ax = sns.countplot(y=\"LIGHTCOND\", hue=\"SEVERITYCODE\", data=data)\n",
    "ax.set_xticklabels(ax.get_xticklabels(), rotation=90)\n",
    "plt.legend(loc='lower right')\n",
    "plt.show()"
   ]
  },
  {
   "cell_type": "code",
   "execution_count": 10,
   "metadata": {},
   "outputs": [
    {
     "name": "stderr",
     "output_type": "stream",
     "text": [
      "C:\\Users\\aryam\\anaconda3\\lib\\site-packages\\ipykernel_launcher.py:2: UserWarning: FixedFormatter should only be used together with FixedLocator\n",
      "  \n"
     ]
    },
    {
     "data": {
      "image/png": "[encoded data removed]",
      "text/plain": [
       "<Figure size 432x288 with 1 Axes>"
      ]
     },
     "metadata": {},
     "output_type": "display_data"
    }
   ],
   "source": [
    "ax = sns.countplot(y=\"WEATHER\", hue=\"SEVERITYCODE\", data=data)\n",
    "ax.set_xticklabels(ax.get_xticklabels(), rotation=90)\n",
    "plt.legend(loc='lower right')\n",
    "plt.show()\n"
   ]
  },
  {
   "cell_type": "code",
   "execution_count": 11,
   "metadata": {},
   "outputs": [
    {
     "name": "stderr",
     "output_type": "stream",
     "text": [
      "C:\\Users\\aryam\\anaconda3\\lib\\site-packages\\ipykernel_launcher.py:2: UserWarning: FixedFormatter should only be used together with FixedLocator\n",
      "  \n"
     ]
    },
    {
     "data": {
      "image/png": "[encoded data removed]",
      "text/plain": [
       "<Figure size 432x288 with 1 Axes>"
      ]
     },
     "metadata": {},
     "output_type": "display_data"
    }
   ],
   "source": [
    "ax = sns.countplot(y=\"ROADCOND\", hue=\"SEVERITYCODE\", data=data)\n",
    "ax.set_xticklabels(ax.get_xticklabels(), rotation=90)\n",
    "plt.legend(loc='lower right')\n",
    "plt.show()"
   ]
  },
  {
   "cell_type": "code",
   "execution_count": 12,
   "metadata": {},
   "outputs": [
    {
     "name": "stderr",
     "output_type": "stream",
     "text": [
      "C:\\Users\\aryam\\anaconda3\\lib\\site-packages\\ipykernel_launcher.py:2: UserWarning: FixedFormatter should only be used together with FixedLocator\n",
      "  \n"
     ]
    },
    {
     "data": {
      "image/png": "[encoded data removed]",
      "text/plain": [
       "<Figure size 432x288 with 1 Axes>"
      ]
     },
     "metadata": {},
     "output_type": "display_data"
    }
   ],
   "source": [
    "ax = sns.countplot(y=\"COLLISIONTYPE\", hue=\"SEVERITYCODE\", data=data)\n",
    "ax.set_xticklabels(ax.get_xticklabels(), rotation=90)\n",
    "plt.legend(loc='lower right')\n",
    "plt.show()"
   ]
  },
  {
   "cell_type": "code",
   "execution_count": 13,
   "metadata": {},
   "outputs": [
    {
     "name": "stderr",
     "output_type": "stream",
     "text": [
      "C:\\Users\\aryam\\anaconda3\\lib\\site-packages\\ipykernel_launcher.py:3: UserWarning: FixedFormatter should only be used together with FixedLocator\n",
      "  This is separate from the ipykernel package so we can avoid doing imports until\n"
     ]
    },
    {
     "data": {
      "image/png": "[encoded data removed]",
      "text/plain": [
       "<Figure size 432x288 with 1 Axes>"
      ]
     },
     "metadata": {},
     "output_type": "display_data"
    }
   ],
   "source": [
    "# Y and N needs to be mapped to 1 and 0, this will be part of data processing after train test split\n",
    "ax = sns.countplot(y=\"UNDERINFL\", hue=\"SEVERITYCODE\", data=data)\n",
    "ax.set_xticklabels(ax.get_xticklabels(), rotation=90)\n",
    "plt.legend(loc='lower right')\n",
    "plt.show()"
   ]
  },
  {
   "cell_type": "code",
   "execution_count": 14,
   "metadata": {},
   "outputs": [
    {
     "name": "stderr",
     "output_type": "stream",
     "text": [
      "C:\\Users\\aryam\\anaconda3\\lib\\site-packages\\ipykernel_launcher.py:2: UserWarning: FixedFormatter should only be used together with FixedLocator\n",
      "  \n"
     ]
    },
    {
     "data": {
      "image/png": "[encoded data removed]",
      "text/plain": [
       "<Figure size 432x288 with 1 Axes>"
      ]
     },
     "metadata": {},
     "output_type": "display_data"
    }
   ],
   "source": [
    "ax = sns.countplot(y=\"ADDRTYPE\", hue=\"SEVERITYCODE\", data=data)\n",
    "ax.set_xticklabels(ax.get_xticklabels(), rotation=90)\n",
    "plt.legend(loc='lower right')\n",
    "plt.show()"
   ]
  },
  {
   "cell_type": "code",
   "execution_count": 15,
   "metadata": {},
   "outputs": [
    {
     "data": {
      "text/plain": [
       "array(['10', '11', '32', '23', '5', '22', '14', '30', ' ', '28', '51',\n",
       "       '13', '50', '12', '45', '0', '20', '21', '1', '52', '16', '15',\n",
       "       '74', '81', '26', '19', '2', '66', '71', '3', '24', '40', '57',\n",
       "       '6', '83', '25', '27', '4', '72', '29', '56', '73', '41', '17',\n",
       "       '65', '82', '67', '49', '84', '31', '43', '42', '48', '64', '53',\n",
       "       32, 50, 15, 10, 14, 20, 13, 22, 51, 11, 28, 12, 52, 21, 0, 19, 30,\n",
       "       16, 40, 26, 27, 83, 2, 45, 65, 23, 24, 71, 1, 29, 81, 25, 4, 73,\n",
       "       74, 72, 3, 84, 64, 57, 42, 41, 48, 66, 56, 31, 82, 67, '54', '60',\n",
       "       53, 43, 87, 54, '87', nan, '7', '8', '85', '88', '18'],\n",
       "      dtype=object)"
      ]
     },
     "execution_count": 15,
     "metadata": {},
     "output_type": "execute_result"
    }
   ],
   "source": [
    "# Convert the strings into int, this will be part of data processing after train test split\n",
    "data[\"ST_COLCODE\"].unique()"
   ]
  },
  {
   "cell_type": "code",
   "execution_count": 16,
   "metadata": {},
   "outputs": [
    {
     "data": {
      "image/png": "[encoded data removed]",
      "text/plain": [
       "<Figure size 432x288 with 1 Axes>"
      ]
     },
     "metadata": {},
     "output_type": "display_data"
    }
   ],
   "source": [
    "ax = sns.distplot(data[\"PERSONCOUNT\"])\n",
    "plt.ylabel(\"Fraction of data\")\n",
    "plt.show()"
   ]
  },
  {
   "cell_type": "code",
   "execution_count": 17,
   "metadata": {},
   "outputs": [
    {
     "name": "stderr",
     "output_type": "stream",
     "text": [
      "C:\\Users\\aryam\\anaconda3\\lib\\site-packages\\ipykernel_launcher.py:2: UserWarning: FixedFormatter should only be used together with FixedLocator\n",
      "  \n"
     ]
    },
    {
     "data": {
      "image/png": "[encoded data removed]",
      "text/plain": [
       "<Figure size 432x288 with 1 Axes>"
      ]
     },
     "metadata": {},
     "output_type": "display_data"
    }
   ],
   "source": [
    "ax = sns.countplot(y=\"PEDCOUNT\", hue=\"SEVERITYCODE\", data=data)\n",
    "ax.set_xticklabels(ax.get_xticklabels(), rotation=90)\n",
    "plt.legend(loc='lower right')\n",
    "plt.show()"
   ]
  },
  {
   "cell_type": "code",
   "execution_count": 18,
   "metadata": {},
   "outputs": [
    {
     "name": "stderr",
     "output_type": "stream",
     "text": [
      "C:\\Users\\aryam\\anaconda3\\lib\\site-packages\\ipykernel_launcher.py:2: UserWarning: FixedFormatter should only be used together with FixedLocator\n",
      "  \n"
     ]
    },
    {
     "data": {
      "image/png": "[encoded data removed]",
      "text/plain": [
       "<Figure size 432x288 with 1 Axes>"
      ]
     },
     "metadata": {},
     "output_type": "display_data"
    }
   ],
   "source": [
    "ax = sns.countplot(y=\"PEDCYLCOUNT\", hue=\"SEVERITYCODE\", data=data)\n",
    "ax.set_xticklabels(ax.get_xticklabels(), rotation=90)\n",
    "plt.legend(loc='lower right')\n",
    "plt.show()"
   ]
  },
  {
   "cell_type": "code",
   "execution_count": 19,
   "metadata": {},
   "outputs": [
    {
     "name": "stderr",
     "output_type": "stream",
     "text": [
      "C:\\Users\\aryam\\anaconda3\\lib\\site-packages\\ipykernel_launcher.py:2: UserWarning: FixedFormatter should only be used together with FixedLocator\n",
      "  \n"
     ]
    },
    {
     "data": {
      "image/png": "[encoded data removed]",
      "text/plain": [
       "<Figure size 432x288 with 1 Axes>"
      ]
     },
     "metadata": {},
     "output_type": "display_data"
    }
   ],
   "source": [
    "ax = sns.countplot(y=\"VEHCOUNT\", hue=\"SEVERITYCODE\", data=data)\n",
    "ax.set_xticklabels(ax.get_xticklabels(), rotation=90)\n",
    "plt.legend(loc='lower right')\n",
    "plt.show()"
   ]
  },
  {
   "cell_type": "code",
   "execution_count": 20,
   "metadata": {},
   "outputs": [
    {
     "name": "stdout",
     "output_type": "stream",
     "text": [
      "Matched      189786\n",
      "Unmatched      4887\n",
      "Name: STATUS, dtype: int64\n"
     ]
    },
    {
     "data": {
      "image/png": "[encoded data removed]",
      "text/plain": [
       "<Figure size 432x288 with 2 Axes>"
      ]
     },
     "metadata": {},
     "output_type": "display_data"
    }
   ],
   "source": [
    "print(data[\"STATUS\"].value_counts())\n",
    "df = data.groupby(by=[\"STATUS\", \"SEVERITYCODE\"]).count()[\"OBJECTID\"]\n",
    "df.unstack().transpose().plot.pie(subplots=True)\n",
    "plt.show()"
   ]
  },
  {
   "cell_type": "code",
   "execution_count": 21,
   "metadata": {},
   "outputs": [
    {
     "name": "stderr",
     "output_type": "stream",
     "text": [
      "C:\\Users\\aryam\\anaconda3\\lib\\site-packages\\ipykernel_launcher.py:2: UserWarning: FixedFormatter should only be used together with FixedLocator\n",
      "  \n"
     ]
    },
    {
     "data": {
      "image/png": "[encoded data removed]",
      "text/plain": [
       "<Figure size 432x288 with 1 Axes>"
      ]
     },
     "metadata": {},
     "output_type": "display_data"
    }
   ],
   "source": [
    "ax = sns.countplot(y=\"HITPARKEDCAR\", hue=\"SEVERITYCODE\", data=data)\n",
    "ax.set_xticklabels(ax.get_xticklabels(), rotation=90)\n",
    "plt.legend(loc='lower right')\n",
    "plt.show()"
   ]
  },
  {
   "cell_type": "code",
   "execution_count": 22,
   "metadata": {},
   "outputs": [
    {
     "data": {
      "text/html": [
       "<div>\n",
       "<style scoped>\n",
       "    .dataframe tbody tr th:only-of-type {\n",
       "        vertical-align: middle;\n",
       "    }\n",
       "\n",
       "    .dataframe tbody tr th {\n",
       "        vertical-align: top;\n",
       "    }\n",
       "\n",
       "    .dataframe thead th {\n",
       "        text-align: right;\n",
       "    }\n",
       "</style>\n",
       "<table border=\"1\" class=\"dataframe\">\n",
       "  <thead>\n",
       "    <tr style=\"text-align: right;\">\n",
       "      <th></th>\n",
       "      <th>SEVERITYCODE</th>\n",
       "      <th>ADDRTYPE</th>\n",
       "      <th>COLLISIONTYPE</th>\n",
       "      <th>PERSONCOUNT</th>\n",
       "      <th>PEDCOUNT</th>\n",
       "      <th>PEDCYLCOUNT</th>\n",
       "      <th>VEHCOUNT</th>\n",
       "      <th>JUNCTIONTYPE</th>\n",
       "      <th>SDOT_COLCODE</th>\n",
       "      <th>UNDERINFL</th>\n",
       "      <th>WEATHER</th>\n",
       "      <th>ROADCOND</th>\n",
       "      <th>LIGHTCOND</th>\n",
       "      <th>ST_COLCODE</th>\n",
       "      <th>SEGLANEKEY</th>\n",
       "      <th>CROSSWALKKEY</th>\n",
       "      <th>HITPARKEDCAR</th>\n",
       "    </tr>\n",
       "  </thead>\n",
       "  <tbody>\n",
       "    <tr>\n",
       "      <th>0</th>\n",
       "      <td>2</td>\n",
       "      <td>Intersection</td>\n",
       "      <td>Angles</td>\n",
       "      <td>2</td>\n",
       "      <td>0</td>\n",
       "      <td>0</td>\n",
       "      <td>2</td>\n",
       "      <td>At Intersection (intersection related)</td>\n",
       "      <td>11</td>\n",
       "      <td>N</td>\n",
       "      <td>Overcast</td>\n",
       "      <td>Wet</td>\n",
       "      <td>Daylight</td>\n",
       "      <td>10</td>\n",
       "      <td>0</td>\n",
       "      <td>0</td>\n",
       "      <td>N</td>\n",
       "    </tr>\n",
       "    <tr>\n",
       "      <th>1</th>\n",
       "      <td>1</td>\n",
       "      <td>Block</td>\n",
       "      <td>Sideswipe</td>\n",
       "      <td>2</td>\n",
       "      <td>0</td>\n",
       "      <td>0</td>\n",
       "      <td>2</td>\n",
       "      <td>Mid-Block (not related to intersection)</td>\n",
       "      <td>16</td>\n",
       "      <td>0</td>\n",
       "      <td>Raining</td>\n",
       "      <td>Wet</td>\n",
       "      <td>Dark - Street Lights On</td>\n",
       "      <td>11</td>\n",
       "      <td>0</td>\n",
       "      <td>0</td>\n",
       "      <td>N</td>\n",
       "    </tr>\n",
       "    <tr>\n",
       "      <th>2</th>\n",
       "      <td>1</td>\n",
       "      <td>Block</td>\n",
       "      <td>Parked Car</td>\n",
       "      <td>4</td>\n",
       "      <td>0</td>\n",
       "      <td>0</td>\n",
       "      <td>3</td>\n",
       "      <td>Mid-Block (not related to intersection)</td>\n",
       "      <td>14</td>\n",
       "      <td>0</td>\n",
       "      <td>Overcast</td>\n",
       "      <td>Dry</td>\n",
       "      <td>Daylight</td>\n",
       "      <td>32</td>\n",
       "      <td>0</td>\n",
       "      <td>0</td>\n",
       "      <td>N</td>\n",
       "    </tr>\n",
       "    <tr>\n",
       "      <th>3</th>\n",
       "      <td>1</td>\n",
       "      <td>Block</td>\n",
       "      <td>Other</td>\n",
       "      <td>3</td>\n",
       "      <td>0</td>\n",
       "      <td>0</td>\n",
       "      <td>3</td>\n",
       "      <td>Mid-Block (not related to intersection)</td>\n",
       "      <td>11</td>\n",
       "      <td>N</td>\n",
       "      <td>Clear</td>\n",
       "      <td>Dry</td>\n",
       "      <td>Daylight</td>\n",
       "      <td>23</td>\n",
       "      <td>0</td>\n",
       "      <td>0</td>\n",
       "      <td>N</td>\n",
       "    </tr>\n",
       "    <tr>\n",
       "      <th>4</th>\n",
       "      <td>2</td>\n",
       "      <td>Intersection</td>\n",
       "      <td>Angles</td>\n",
       "      <td>2</td>\n",
       "      <td>0</td>\n",
       "      <td>0</td>\n",
       "      <td>2</td>\n",
       "      <td>At Intersection (intersection related)</td>\n",
       "      <td>11</td>\n",
       "      <td>0</td>\n",
       "      <td>Raining</td>\n",
       "      <td>Wet</td>\n",
       "      <td>Daylight</td>\n",
       "      <td>10</td>\n",
       "      <td>0</td>\n",
       "      <td>0</td>\n",
       "      <td>N</td>\n",
       "    </tr>\n",
       "  </tbody>\n",
       "</table>\n",
       "</div>"
      ],
      "text/plain": [
       "   SEVERITYCODE      ADDRTYPE COLLISIONTYPE  PERSONCOUNT  PEDCOUNT  \\\n",
       "0             2  Intersection        Angles            2         0   \n",
       "1             1         Block     Sideswipe            2         0   \n",
       "2             1         Block    Parked Car            4         0   \n",
       "3             1         Block         Other            3         0   \n",
       "4             2  Intersection        Angles            2         0   \n",
       "\n",
       "   PEDCYLCOUNT  VEHCOUNT                             JUNCTIONTYPE  \\\n",
       "0            0         2   At Intersection (intersection related)   \n",
       "1            0         2  Mid-Block (not related to intersection)   \n",
       "2            0         3  Mid-Block (not related to intersection)   \n",
       "3            0         3  Mid-Block (not related to intersection)   \n",
       "4            0         2   At Intersection (intersection related)   \n",
       "\n",
       "   SDOT_COLCODE UNDERINFL   WEATHER ROADCOND                LIGHTCOND  \\\n",
       "0            11         N  Overcast      Wet                 Daylight   \n",
       "1            16         0   Raining      Wet  Dark - Street Lights On   \n",
       "2            14         0  Overcast      Dry                 Daylight   \n",
       "3            11         N     Clear      Dry                 Daylight   \n",
       "4            11         0   Raining      Wet                 Daylight   \n",
       "\n",
       "  ST_COLCODE  SEGLANEKEY  CROSSWALKKEY HITPARKEDCAR  \n",
       "0         10           0             0            N  \n",
       "1         11           0             0            N  \n",
       "2         32           0             0            N  \n",
       "3         23           0             0            N  \n",
       "4         10           0             0            N  "
      ]
     },
     "execution_count": 22,
     "metadata": {},
     "output_type": "execute_result"
    }
   ],
   "source": [
    "# Lets drop the columns which are not usefull for our model.\n",
    "drop_cols = [\"SEVERITYCODE.1\", \"SEVERITYDESC\", \"SDOTCOLNUM\", \"X\", \"Y\", \"ST_COLDESC\", \"LOCATION\", \"SDOT_COLDESC\", \n",
    "             \"INCDTTM\", \"INCDATE\", \"REPORTNO\", \"COLDETKEY\", \"INCKEY\", \"OBJECTID\", \"STATUS\"]\n",
    "data.drop(columns=drop_cols, inplace=True)\n",
    "data.head()"
   ]
  },
  {
   "cell_type": "code",
   "execution_count": 23,
   "metadata": {},
   "outputs": [
    {
     "data": {
      "text/html": [
       "<div>\n",
       "<style scoped>\n",
       "    .dataframe tbody tr th:only-of-type {\n",
       "        vertical-align: middle;\n",
       "    }\n",
       "\n",
       "    .dataframe tbody tr th {\n",
       "        vertical-align: top;\n",
       "    }\n",
       "\n",
       "    .dataframe thead th {\n",
       "        text-align: right;\n",
       "    }\n",
       "</style>\n",
       "<table border=\"1\" class=\"dataframe\">\n",
       "  <thead>\n",
       "    <tr style=\"text-align: right;\">\n",
       "      <th></th>\n",
       "      <th>Data Types</th>\n",
       "      <th>Null Values</th>\n",
       "    </tr>\n",
       "  </thead>\n",
       "  <tbody>\n",
       "    <tr>\n",
       "      <th>JUNCTIONTYPE</th>\n",
       "      <td>object</td>\n",
       "      <td>6329</td>\n",
       "    </tr>\n",
       "    <tr>\n",
       "      <th>LIGHTCOND</th>\n",
       "      <td>object</td>\n",
       "      <td>5170</td>\n",
       "    </tr>\n",
       "    <tr>\n",
       "      <th>WEATHER</th>\n",
       "      <td>object</td>\n",
       "      <td>5081</td>\n",
       "    </tr>\n",
       "    <tr>\n",
       "      <th>ROADCOND</th>\n",
       "      <td>object</td>\n",
       "      <td>5012</td>\n",
       "    </tr>\n",
       "    <tr>\n",
       "      <th>COLLISIONTYPE</th>\n",
       "      <td>object</td>\n",
       "      <td>4904</td>\n",
       "    </tr>\n",
       "    <tr>\n",
       "      <th>UNDERINFL</th>\n",
       "      <td>object</td>\n",
       "      <td>4884</td>\n",
       "    </tr>\n",
       "    <tr>\n",
       "      <th>ADDRTYPE</th>\n",
       "      <td>object</td>\n",
       "      <td>1926</td>\n",
       "    </tr>\n",
       "    <tr>\n",
       "      <th>ST_COLCODE</th>\n",
       "      <td>object</td>\n",
       "      <td>18</td>\n",
       "    </tr>\n",
       "    <tr>\n",
       "      <th>SEVERITYCODE</th>\n",
       "      <td>int64</td>\n",
       "      <td>0</td>\n",
       "    </tr>\n",
       "    <tr>\n",
       "      <th>CROSSWALKKEY</th>\n",
       "      <td>int64</td>\n",
       "      <td>0</td>\n",
       "    </tr>\n",
       "    <tr>\n",
       "      <th>SEGLANEKEY</th>\n",
       "      <td>int64</td>\n",
       "      <td>0</td>\n",
       "    </tr>\n",
       "    <tr>\n",
       "      <th>SDOT_COLCODE</th>\n",
       "      <td>int64</td>\n",
       "      <td>0</td>\n",
       "    </tr>\n",
       "    <tr>\n",
       "      <th>VEHCOUNT</th>\n",
       "      <td>int64</td>\n",
       "      <td>0</td>\n",
       "    </tr>\n",
       "    <tr>\n",
       "      <th>PEDCYLCOUNT</th>\n",
       "      <td>int64</td>\n",
       "      <td>0</td>\n",
       "    </tr>\n",
       "    <tr>\n",
       "      <th>PEDCOUNT</th>\n",
       "      <td>int64</td>\n",
       "      <td>0</td>\n",
       "    </tr>\n",
       "    <tr>\n",
       "      <th>PERSONCOUNT</th>\n",
       "      <td>int64</td>\n",
       "      <td>0</td>\n",
       "    </tr>\n",
       "    <tr>\n",
       "      <th>HITPARKEDCAR</th>\n",
       "      <td>object</td>\n",
       "      <td>0</td>\n",
       "    </tr>\n",
       "  </tbody>\n",
       "</table>\n",
       "</div>"
      ],
      "text/plain": [
       "              Data Types  Null Values\n",
       "JUNCTIONTYPE      object         6329\n",
       "LIGHTCOND         object         5170\n",
       "WEATHER           object         5081\n",
       "ROADCOND          object         5012\n",
       "COLLISIONTYPE     object         4904\n",
       "UNDERINFL         object         4884\n",
       "ADDRTYPE          object         1926\n",
       "ST_COLCODE        object           18\n",
       "SEVERITYCODE       int64            0\n",
       "CROSSWALKKEY       int64            0\n",
       "SEGLANEKEY         int64            0\n",
       "SDOT_COLCODE       int64            0\n",
       "VEHCOUNT           int64            0\n",
       "PEDCYLCOUNT        int64            0\n",
       "PEDCOUNT           int64            0\n",
       "PERSONCOUNT        int64            0\n",
       "HITPARKEDCAR      object            0"
      ]
     },
     "execution_count": 23,
     "metadata": {},
     "output_type": "execute_result"
    }
   ],
   "source": [
    "pd.concat([data.dtypes, data.isna().sum()], axis=1, \n",
    "          keys=[\"Data Types\", \"Null Values\"]).sort_values(by=[\"Null Values\"], ascending=False)"
   ]
  },
  {
   "cell_type": "code",
   "execution_count": 24,
   "metadata": {},
   "outputs": [],
   "source": [
    "data_y = data[[\"SEVERITYCODE\"]]\n",
    "data_X = data.drop(columns=[\"SEVERITYCODE\"])"
   ]
  },
  {
   "cell_type": "code",
   "execution_count": 25,
   "metadata": {},
   "outputs": [],
   "source": [
    "from sklearn.model_selection import train_test_split\n",
    "X_train, X_test, y_train, y_test = train_test_split(data_X, data_y, test_size=0.30, random_state=42, stratify=data_y, shuffle=True)"
   ]
  },
  {
   "cell_type": "code",
   "execution_count": 26,
   "metadata": {},
   "outputs": [
    {
     "data": {
      "text/plain": [
       "N    126438\n",
       "Y      6373\n",
       "Name: UNDERINFL, dtype: int64"
      ]
     },
     "execution_count": 26,
     "metadata": {},
     "output_type": "execute_result"
    }
   ],
   "source": [
    "pd.options.mode.chained_assignment = None\n",
    "X_train[\"UNDERINFL\"] = X_train[\"UNDERINFL\"].apply(lambda x: 'N' if x=='0' else 'Y' if x=='1' else x)\n",
    "X_train[\"UNDERINFL\"].value_counts()"
   ]
  },
  {
   "cell_type": "code",
   "execution_count": 27,
   "metadata": {},
   "outputs": [
    {
     "data": {
      "text/plain": [
       "array([14., 28., 13., 32., nan,  0., 50., 22., 10., 26., 20., 15., 11.,\n",
       "       23., 71., 45., 52., 81., 51., 12., 24., 16., 21.,  1., 29., 88.,\n",
       "        3.,  2.,  6., 74., 30., 27., 57., 83., 19., 56.,  5., 53., 31.,\n",
       "       73., 84.,  8.,  4., 40., 25., 72., 17., 41., 82., 54., 65., 48.,\n",
       "       64.,  7., 66., 85., 67., 42., 18., 43., 60., 49., 87.])"
      ]
     },
     "execution_count": 27,
     "metadata": {},
     "output_type": "execute_result"
    }
   ],
   "source": [
    "import math\n",
    "X_train[\"ST_COLCODE\"] = X_train[\"ST_COLCODE\"].apply(lambda x: np.nan if x==' ' else int(x) if isinstance(x, str) else x)\n",
    "X_train[\"ST_COLCODE\"].unique()"
   ]
  },
  {
   "cell_type": "code",
   "execution_count": 28,
   "metadata": {},
   "outputs": [
    {
     "name": "stdout",
     "output_type": "stream",
     "text": [
      "Total distribution of training data:\n",
      "1    95539\n",
      "2    40732\n",
      "Name: SEVERITYCODE, dtype: int64\n",
      "\n",
      "Total distribution of missing data we are planning to drop:\n",
      "1    7151\n",
      "2    1086\n",
      "Name: SEVERITYCODE, dtype: int64\n"
     ]
    }
   ],
   "source": [
    "train = pd.concat([X_train, y_train], axis=1)\n",
    "print(\"Total distribution of training data:\")\n",
    "print(train['SEVERITYCODE'].value_counts())\n",
    "print(\"\")\n",
    "print(\"Total distribution of missing data we are planning to drop:\")\n",
    "print(train[train.isna().any(axis=1)]['SEVERITYCODE'].value_counts())"
   ]
  },
  {
   "cell_type": "code",
   "execution_count": 29,
   "metadata": {},
   "outputs": [
    {
     "data": {
      "text/html": [
       "<div>\n",
       "<style scoped>\n",
       "    .dataframe tbody tr th:only-of-type {\n",
       "        vertical-align: middle;\n",
       "    }\n",
       "\n",
       "    .dataframe tbody tr th {\n",
       "        vertical-align: top;\n",
       "    }\n",
       "\n",
       "    .dataframe thead th {\n",
       "        text-align: right;\n",
       "    }\n",
       "</style>\n",
       "<table border=\"1\" class=\"dataframe\">\n",
       "  <thead>\n",
       "    <tr style=\"text-align: right;\">\n",
       "      <th></th>\n",
       "      <th>Data Types</th>\n",
       "      <th>Null Values</th>\n",
       "    </tr>\n",
       "  </thead>\n",
       "  <tbody>\n",
       "    <tr>\n",
       "      <th>ADDRTYPE</th>\n",
       "      <td>object</td>\n",
       "      <td>0</td>\n",
       "    </tr>\n",
       "    <tr>\n",
       "      <th>WEATHER</th>\n",
       "      <td>object</td>\n",
       "      <td>0</td>\n",
       "    </tr>\n",
       "    <tr>\n",
       "      <th>HITPARKEDCAR</th>\n",
       "      <td>object</td>\n",
       "      <td>0</td>\n",
       "    </tr>\n",
       "    <tr>\n",
       "      <th>CROSSWALKKEY</th>\n",
       "      <td>int64</td>\n",
       "      <td>0</td>\n",
       "    </tr>\n",
       "    <tr>\n",
       "      <th>SEGLANEKEY</th>\n",
       "      <td>int64</td>\n",
       "      <td>0</td>\n",
       "    </tr>\n",
       "    <tr>\n",
       "      <th>ST_COLCODE</th>\n",
       "      <td>float64</td>\n",
       "      <td>0</td>\n",
       "    </tr>\n",
       "    <tr>\n",
       "      <th>LIGHTCOND</th>\n",
       "      <td>object</td>\n",
       "      <td>0</td>\n",
       "    </tr>\n",
       "    <tr>\n",
       "      <th>ROADCOND</th>\n",
       "      <td>object</td>\n",
       "      <td>0</td>\n",
       "    </tr>\n",
       "    <tr>\n",
       "      <th>UNDERINFL</th>\n",
       "      <td>object</td>\n",
       "      <td>0</td>\n",
       "    </tr>\n",
       "    <tr>\n",
       "      <th>COLLISIONTYPE</th>\n",
       "      <td>object</td>\n",
       "      <td>0</td>\n",
       "    </tr>\n",
       "    <tr>\n",
       "      <th>SDOT_COLCODE</th>\n",
       "      <td>int64</td>\n",
       "      <td>0</td>\n",
       "    </tr>\n",
       "    <tr>\n",
       "      <th>JUNCTIONTYPE</th>\n",
       "      <td>object</td>\n",
       "      <td>0</td>\n",
       "    </tr>\n",
       "    <tr>\n",
       "      <th>VEHCOUNT</th>\n",
       "      <td>int64</td>\n",
       "      <td>0</td>\n",
       "    </tr>\n",
       "    <tr>\n",
       "      <th>PEDCYLCOUNT</th>\n",
       "      <td>int64</td>\n",
       "      <td>0</td>\n",
       "    </tr>\n",
       "    <tr>\n",
       "      <th>PEDCOUNT</th>\n",
       "      <td>int64</td>\n",
       "      <td>0</td>\n",
       "    </tr>\n",
       "    <tr>\n",
       "      <th>PERSONCOUNT</th>\n",
       "      <td>int64</td>\n",
       "      <td>0</td>\n",
       "    </tr>\n",
       "    <tr>\n",
       "      <th>SEVERITYCODE</th>\n",
       "      <td>int64</td>\n",
       "      <td>0</td>\n",
       "    </tr>\n",
       "  </tbody>\n",
       "</table>\n",
       "</div>"
      ],
      "text/plain": [
       "              Data Types  Null Values\n",
       "ADDRTYPE          object            0\n",
       "WEATHER           object            0\n",
       "HITPARKEDCAR      object            0\n",
       "CROSSWALKKEY       int64            0\n",
       "SEGLANEKEY         int64            0\n",
       "ST_COLCODE       float64            0\n",
       "LIGHTCOND         object            0\n",
       "ROADCOND          object            0\n",
       "UNDERINFL         object            0\n",
       "COLLISIONTYPE     object            0\n",
       "SDOT_COLCODE       int64            0\n",
       "JUNCTIONTYPE      object            0\n",
       "VEHCOUNT           int64            0\n",
       "PEDCYLCOUNT        int64            0\n",
       "PEDCOUNT           int64            0\n",
       "PERSONCOUNT        int64            0\n",
       "SEVERITYCODE       int64            0"
      ]
     },
     "execution_count": 29,
     "metadata": {},
     "output_type": "execute_result"
    }
   ],
   "source": [
    "# It seems safe to drop the missing data rows as the proportion of data dropped is okay\n",
    "train = train.dropna()\n",
    "y_train = train[[\"SEVERITYCODE\"]]\n",
    "X_train = train.drop(columns=[\"SEVERITYCODE\"])\n",
    "pd.concat([train.dtypes, train.isna().sum()], axis=1, \n",
    "          keys=[\"Data Types\", \"Null Values\"]).sort_values(by=[\"Null Values\"], ascending=False)"
   ]
  },
  {
   "cell_type": "code",
   "execution_count": 30,
   "metadata": {},
   "outputs": [],
   "source": [
    "#Preparing X and Y for modelling\n",
    "y_train = y_train.values.ravel()\n",
    "X_train.reset_index(drop=True, inplace=True)"
   ]
  },
  {
   "cell_type": "code",
   "execution_count": 31,
   "metadata": {},
   "outputs": [
    {
     "name": "stdout",
     "output_type": "stream",
     "text": [
      "Feature SEGLANEKEY, training categories: 1451\n",
      "Feature CROSSWALKKEY, training categories: 1733\n",
      "Feature SDOT_COLCODE, training categories: 39\n",
      "Feature ST_COLCODE, training categories: 62\n"
     ]
    }
   ],
   "source": [
    "# Features with many categories, pending to experiment with\n",
    "print(\"Feature SEGLANEKEY, training categories:\",len(X_train[\"SEGLANEKEY\"].unique()))\n",
    "print(\"Feature CROSSWALKKEY, training categories:\",len(X_train[\"CROSSWALKKEY\"].unique()))\n",
    "print(\"Feature SDOT_COLCODE, training categories:\",len(X_train[\"SDOT_COLCODE\"].unique()))\n",
    "print(\"Feature ST_COLCODE, training categories:\",len(X_train[\"ST_COLCODE\"].unique()))\n",
    "#X_train.drop(columns=[\"SEGLANEKEY\", \"CROSSWALKKEY\", \"SDOT_COLCODE\", \"ST_COLCODE\"], inplace=True)"
   ]
  },
  {
   "cell_type": "code",
   "execution_count": 32,
   "metadata": {},
   "outputs": [],
   "source": [
    "X_train[\"HITPARKEDCAR\"] = X_train[\"HITPARKEDCAR\"].apply(lambda x: 1 if x=='Y' else 0)\n",
    "X_train[\"UNDERINFL\"] = X_train[\"UNDERINFL\"].apply(lambda x: 1 if x=='Y' else 0)"
   ]
  },
  {
   "cell_type": "code",
   "execution_count": 33,
   "metadata": {},
   "outputs": [],
   "source": [
    "# One Hot Encoding\n",
    "oh_encodings = {}\n",
    "def one_hot(df, cols):\n",
    "    global oh_encodings\n",
    "    for col in cols:\n",
    "        dummy = pd.get_dummies(df[col], prefix=col)\n",
    "        if col+\"_Unknown\" in dummy.columns:\n",
    "            dummy.drop(columns=[col+\"_Unknown\"], inplace=True)\n",
    "        elif col+\"_Others\" in dummy.columns:\n",
    "            dummy.drop(columns=[col+\"_Other\"], inplace=True)\n",
    "        else:\n",
    "            dummy.drop(columns=[dummy.columns[-1]], inplace=True)\n",
    "        oh_encodings[col] = list(dummy.columns)\n",
    "        df = pd.concat([df, dummy], axis=1)\n",
    "        df.drop(columns=[col], inplace = True)  \n",
    "    return df"
   ]
  },
  {
   "cell_type": "code",
   "execution_count": 34,
   "metadata": {},
   "outputs": [],
   "source": [
    "# Feature Hashing for very high cardinality nominal features\n",
    "hashing_dict = {}\n",
    "from copy import deepcopy\n",
    "from sklearn.feature_extraction import FeatureHasher\n",
    "def featurehash(df, cols):\n",
    "    global hashing_dict\n",
    "    fh = FeatureHasher(n_features=30, input_type='string')\n",
    "    for col in cols:\n",
    "        df[col] = df[col].astype(str)\n",
    "        hashed_features = fh.fit_transform(df[col])\n",
    "        fh_fit = deepcopy(fh)\n",
    "        hashing_dict[col] = fh_fit\n",
    "        hashed_features = hashed_features.toarray()\n",
    "        dummy = pd.DataFrame(hashed_features)\n",
    "        for name in dummy.columns:\n",
    "            dummy.rename(columns={name:col+'_'+str(name)}, inplace=True)\n",
    "        df = pd.concat([df, dummy], axis=1)\n",
    "        df.drop(columns=[col], inplace = True)\n",
    "    return df"
   ]
  },
  {
   "cell_type": "code",
   "execution_count": 35,
   "metadata": {},
   "outputs": [
    {
     "data": {
      "text/html": [
       "<div>\n",
       "<style scoped>\n",
       "    .dataframe tbody tr th:only-of-type {\n",
       "        vertical-align: middle;\n",
       "    }\n",
       "\n",
       "    .dataframe tbody tr th {\n",
       "        vertical-align: top;\n",
       "    }\n",
       "\n",
       "    .dataframe thead th {\n",
       "        text-align: right;\n",
       "    }\n",
       "</style>\n",
       "<table border=\"1\" class=\"dataframe\">\n",
       "  <thead>\n",
       "    <tr style=\"text-align: right;\">\n",
       "      <th></th>\n",
       "      <th>ADDRTYPE</th>\n",
       "      <th>COLLISIONTYPE</th>\n",
       "      <th>PERSONCOUNT</th>\n",
       "      <th>PEDCOUNT</th>\n",
       "      <th>PEDCYLCOUNT</th>\n",
       "      <th>VEHCOUNT</th>\n",
       "      <th>JUNCTIONTYPE</th>\n",
       "      <th>SDOT_COLCODE</th>\n",
       "      <th>UNDERINFL</th>\n",
       "      <th>WEATHER</th>\n",
       "      <th>ROADCOND</th>\n",
       "      <th>LIGHTCOND</th>\n",
       "      <th>ST_COLCODE</th>\n",
       "      <th>SEGLANEKEY</th>\n",
       "      <th>CROSSWALKKEY</th>\n",
       "      <th>HITPARKEDCAR</th>\n",
       "    </tr>\n",
       "  </thead>\n",
       "  <tbody>\n",
       "    <tr>\n",
       "      <th>0</th>\n",
       "      <td>Block</td>\n",
       "      <td>Rear Ended</td>\n",
       "      <td>2</td>\n",
       "      <td>0</td>\n",
       "      <td>0</td>\n",
       "      <td>2</td>\n",
       "      <td>Mid-Block (but intersection related)</td>\n",
       "      <td>14</td>\n",
       "      <td>0</td>\n",
       "      <td>Clear</td>\n",
       "      <td>Wet</td>\n",
       "      <td>Daylight</td>\n",
       "      <td>14.0</td>\n",
       "      <td>0</td>\n",
       "      <td>0</td>\n",
       "      <td>0</td>\n",
       "    </tr>\n",
       "    <tr>\n",
       "      <th>1</th>\n",
       "      <td>Intersection</td>\n",
       "      <td>Left Turn</td>\n",
       "      <td>2</td>\n",
       "      <td>0</td>\n",
       "      <td>0</td>\n",
       "      <td>2</td>\n",
       "      <td>At Intersection (intersection related)</td>\n",
       "      <td>11</td>\n",
       "      <td>0</td>\n",
       "      <td>Clear</td>\n",
       "      <td>Dry</td>\n",
       "      <td>Daylight</td>\n",
       "      <td>28.0</td>\n",
       "      <td>0</td>\n",
       "      <td>0</td>\n",
       "      <td>0</td>\n",
       "    </tr>\n",
       "    <tr>\n",
       "      <th>2</th>\n",
       "      <td>Block</td>\n",
       "      <td>Rear Ended</td>\n",
       "      <td>4</td>\n",
       "      <td>0</td>\n",
       "      <td>0</td>\n",
       "      <td>2</td>\n",
       "      <td>Mid-Block (but intersection related)</td>\n",
       "      <td>14</td>\n",
       "      <td>0</td>\n",
       "      <td>Clear</td>\n",
       "      <td>Dry</td>\n",
       "      <td>Daylight</td>\n",
       "      <td>14.0</td>\n",
       "      <td>0</td>\n",
       "      <td>0</td>\n",
       "      <td>0</td>\n",
       "    </tr>\n",
       "    <tr>\n",
       "      <th>3</th>\n",
       "      <td>Block</td>\n",
       "      <td>Rear Ended</td>\n",
       "      <td>3</td>\n",
       "      <td>0</td>\n",
       "      <td>0</td>\n",
       "      <td>2</td>\n",
       "      <td>Mid-Block (not related to intersection)</td>\n",
       "      <td>14</td>\n",
       "      <td>0</td>\n",
       "      <td>Clear</td>\n",
       "      <td>Dry</td>\n",
       "      <td>Dark - Street Lights On</td>\n",
       "      <td>13.0</td>\n",
       "      <td>0</td>\n",
       "      <td>0</td>\n",
       "      <td>0</td>\n",
       "    </tr>\n",
       "    <tr>\n",
       "      <th>4</th>\n",
       "      <td>Block</td>\n",
       "      <td>Parked Car</td>\n",
       "      <td>2</td>\n",
       "      <td>0</td>\n",
       "      <td>0</td>\n",
       "      <td>2</td>\n",
       "      <td>Mid-Block (not related to intersection)</td>\n",
       "      <td>11</td>\n",
       "      <td>0</td>\n",
       "      <td>Clear</td>\n",
       "      <td>Dry</td>\n",
       "      <td>Daylight</td>\n",
       "      <td>32.0</td>\n",
       "      <td>0</td>\n",
       "      <td>0</td>\n",
       "      <td>0</td>\n",
       "    </tr>\n",
       "  </tbody>\n",
       "</table>\n",
       "</div>"
      ],
      "text/plain": [
       "       ADDRTYPE COLLISIONTYPE  PERSONCOUNT  PEDCOUNT  PEDCYLCOUNT  VEHCOUNT  \\\n",
       "0         Block    Rear Ended            2         0            0         2   \n",
       "1  Intersection     Left Turn            2         0            0         2   \n",
       "2         Block    Rear Ended            4         0            0         2   \n",
       "3         Block    Rear Ended            3         0            0         2   \n",
       "4         Block    Parked Car            2         0            0         2   \n",
       "\n",
       "                              JUNCTIONTYPE  SDOT_COLCODE  UNDERINFL WEATHER  \\\n",
       "0     Mid-Block (but intersection related)            14          0   Clear   \n",
       "1   At Intersection (intersection related)            11          0   Clear   \n",
       "2     Mid-Block (but intersection related)            14          0   Clear   \n",
       "3  Mid-Block (not related to intersection)            14          0   Clear   \n",
       "4  Mid-Block (not related to intersection)            11          0   Clear   \n",
       "\n",
       "  ROADCOND                LIGHTCOND  ST_COLCODE  SEGLANEKEY  CROSSWALKKEY  \\\n",
       "0      Wet                 Daylight        14.0           0             0   \n",
       "1      Dry                 Daylight        28.0           0             0   \n",
       "2      Dry                 Daylight        14.0           0             0   \n",
       "3      Dry  Dark - Street Lights On        13.0           0             0   \n",
       "4      Dry                 Daylight        32.0           0             0   \n",
       "\n",
       "   HITPARKEDCAR  \n",
       "0             0  \n",
       "1             0  \n",
       "2             0  \n",
       "3             0  \n",
       "4             0  "
      ]
     },
     "execution_count": 35,
     "metadata": {},
     "output_type": "execute_result"
    }
   ],
   "source": [
    "X_train.head()"
   ]
  },
  {
   "cell_type": "code",
   "execution_count": 36,
   "metadata": {},
   "outputs": [
    {
     "data": {
      "text/html": [
       "<div>\n",
       "<style scoped>\n",
       "    .dataframe tbody tr th:only-of-type {\n",
       "        vertical-align: middle;\n",
       "    }\n",
       "\n",
       "    .dataframe tbody tr th {\n",
       "        vertical-align: top;\n",
       "    }\n",
       "\n",
       "    .dataframe thead th {\n",
       "        text-align: right;\n",
       "    }\n",
       "</style>\n",
       "<table border=\"1\" class=\"dataframe\">\n",
       "  <thead>\n",
       "    <tr style=\"text-align: right;\">\n",
       "      <th></th>\n",
       "      <th>PERSONCOUNT</th>\n",
       "      <th>PEDCOUNT</th>\n",
       "      <th>PEDCYLCOUNT</th>\n",
       "      <th>VEHCOUNT</th>\n",
       "      <th>UNDERINFL</th>\n",
       "      <th>HITPARKEDCAR</th>\n",
       "      <th>ADDRTYPE_Alley</th>\n",
       "      <th>ADDRTYPE_Block</th>\n",
       "      <th>WEATHER_Blowing Sand/Dirt</th>\n",
       "      <th>WEATHER_Clear</th>\n",
       "      <th>...</th>\n",
       "      <th>CROSSWALKKEY_20</th>\n",
       "      <th>CROSSWALKKEY_21</th>\n",
       "      <th>CROSSWALKKEY_22</th>\n",
       "      <th>CROSSWALKKEY_23</th>\n",
       "      <th>CROSSWALKKEY_24</th>\n",
       "      <th>CROSSWALKKEY_25</th>\n",
       "      <th>CROSSWALKKEY_26</th>\n",
       "      <th>CROSSWALKKEY_27</th>\n",
       "      <th>CROSSWALKKEY_28</th>\n",
       "      <th>CROSSWALKKEY_29</th>\n",
       "    </tr>\n",
       "  </thead>\n",
       "  <tbody>\n",
       "    <tr>\n",
       "      <th>0</th>\n",
       "      <td>2</td>\n",
       "      <td>0</td>\n",
       "      <td>0</td>\n",
       "      <td>2</td>\n",
       "      <td>0</td>\n",
       "      <td>0</td>\n",
       "      <td>0</td>\n",
       "      <td>1</td>\n",
       "      <td>0</td>\n",
       "      <td>1</td>\n",
       "      <td>...</td>\n",
       "      <td>0.0</td>\n",
       "      <td>0.0</td>\n",
       "      <td>0.0</td>\n",
       "      <td>0.0</td>\n",
       "      <td>0.0</td>\n",
       "      <td>0.0</td>\n",
       "      <td>0.0</td>\n",
       "      <td>0.0</td>\n",
       "      <td>0.0</td>\n",
       "      <td>0.0</td>\n",
       "    </tr>\n",
       "    <tr>\n",
       "      <th>1</th>\n",
       "      <td>2</td>\n",
       "      <td>0</td>\n",
       "      <td>0</td>\n",
       "      <td>2</td>\n",
       "      <td>0</td>\n",
       "      <td>0</td>\n",
       "      <td>0</td>\n",
       "      <td>0</td>\n",
       "      <td>0</td>\n",
       "      <td>1</td>\n",
       "      <td>...</td>\n",
       "      <td>0.0</td>\n",
       "      <td>0.0</td>\n",
       "      <td>0.0</td>\n",
       "      <td>0.0</td>\n",
       "      <td>0.0</td>\n",
       "      <td>0.0</td>\n",
       "      <td>0.0</td>\n",
       "      <td>0.0</td>\n",
       "      <td>0.0</td>\n",
       "      <td>0.0</td>\n",
       "    </tr>\n",
       "    <tr>\n",
       "      <th>2</th>\n",
       "      <td>4</td>\n",
       "      <td>0</td>\n",
       "      <td>0</td>\n",
       "      <td>2</td>\n",
       "      <td>0</td>\n",
       "      <td>0</td>\n",
       "      <td>0</td>\n",
       "      <td>1</td>\n",
       "      <td>0</td>\n",
       "      <td>1</td>\n",
       "      <td>...</td>\n",
       "      <td>0.0</td>\n",
       "      <td>0.0</td>\n",
       "      <td>0.0</td>\n",
       "      <td>0.0</td>\n",
       "      <td>0.0</td>\n",
       "      <td>0.0</td>\n",
       "      <td>0.0</td>\n",
       "      <td>0.0</td>\n",
       "      <td>0.0</td>\n",
       "      <td>0.0</td>\n",
       "    </tr>\n",
       "    <tr>\n",
       "      <th>3</th>\n",
       "      <td>3</td>\n",
       "      <td>0</td>\n",
       "      <td>0</td>\n",
       "      <td>2</td>\n",
       "      <td>0</td>\n",
       "      <td>0</td>\n",
       "      <td>0</td>\n",
       "      <td>1</td>\n",
       "      <td>0</td>\n",
       "      <td>1</td>\n",
       "      <td>...</td>\n",
       "      <td>0.0</td>\n",
       "      <td>0.0</td>\n",
       "      <td>0.0</td>\n",
       "      <td>0.0</td>\n",
       "      <td>0.0</td>\n",
       "      <td>0.0</td>\n",
       "      <td>0.0</td>\n",
       "      <td>0.0</td>\n",
       "      <td>0.0</td>\n",
       "      <td>0.0</td>\n",
       "    </tr>\n",
       "    <tr>\n",
       "      <th>4</th>\n",
       "      <td>2</td>\n",
       "      <td>0</td>\n",
       "      <td>0</td>\n",
       "      <td>2</td>\n",
       "      <td>0</td>\n",
       "      <td>0</td>\n",
       "      <td>0</td>\n",
       "      <td>1</td>\n",
       "      <td>0</td>\n",
       "      <td>1</td>\n",
       "      <td>...</td>\n",
       "      <td>0.0</td>\n",
       "      <td>0.0</td>\n",
       "      <td>0.0</td>\n",
       "      <td>0.0</td>\n",
       "      <td>0.0</td>\n",
       "      <td>0.0</td>\n",
       "      <td>0.0</td>\n",
       "      <td>0.0</td>\n",
       "      <td>0.0</td>\n",
       "      <td>0.0</td>\n",
       "    </tr>\n",
       "  </tbody>\n",
       "</table>\n",
       "<p>5 rows × 208 columns</p>\n",
       "</div>"
      ],
      "text/plain": [
       "   PERSONCOUNT  PEDCOUNT  PEDCYLCOUNT  VEHCOUNT  UNDERINFL  HITPARKEDCAR  \\\n",
       "0            2         0            0         2          0             0   \n",
       "1            2         0            0         2          0             0   \n",
       "2            4         0            0         2          0             0   \n",
       "3            3         0            0         2          0             0   \n",
       "4            2         0            0         2          0             0   \n",
       "\n",
       "   ADDRTYPE_Alley  ADDRTYPE_Block  WEATHER_Blowing Sand/Dirt  WEATHER_Clear  \\\n",
       "0               0               1                          0              1   \n",
       "1               0               0                          0              1   \n",
       "2               0               1                          0              1   \n",
       "3               0               1                          0              1   \n",
       "4               0               1                          0              1   \n",
       "\n",
       "   ...  CROSSWALKKEY_20  CROSSWALKKEY_21  CROSSWALKKEY_22  CROSSWALKKEY_23  \\\n",
       "0  ...              0.0              0.0              0.0              0.0   \n",
       "1  ...              0.0              0.0              0.0              0.0   \n",
       "2  ...              0.0              0.0              0.0              0.0   \n",
       "3  ...              0.0              0.0              0.0              0.0   \n",
       "4  ...              0.0              0.0              0.0              0.0   \n",
       "\n",
       "   CROSSWALKKEY_24  CROSSWALKKEY_25  CROSSWALKKEY_26  CROSSWALKKEY_27  \\\n",
       "0              0.0              0.0              0.0              0.0   \n",
       "1              0.0              0.0              0.0              0.0   \n",
       "2              0.0              0.0              0.0              0.0   \n",
       "3              0.0              0.0              0.0              0.0   \n",
       "4              0.0              0.0              0.0              0.0   \n",
       "\n",
       "   CROSSWALKKEY_28  CROSSWALKKEY_29  \n",
       "0              0.0              0.0  \n",
       "1              0.0              0.0  \n",
       "2              0.0              0.0  \n",
       "3              0.0              0.0  \n",
       "4              0.0              0.0  \n",
       "\n",
       "[5 rows x 208 columns]"
      ]
     },
     "execution_count": 36,
     "metadata": {},
     "output_type": "execute_result"
    }
   ],
   "source": [
    "oh_cols = [\"ADDRTYPE\", \"WEATHER\", \"LIGHTCOND\", \"ROADCOND\", \"COLLISIONTYPE\", \"JUNCTIONTYPE\",\"SDOT_COLCODE\", \"ST_COLCODE\"]\n",
    "X_train = one_hot(X_train, oh_cols)\n",
    "hash_cols = [\"SEGLANEKEY\", \"CROSSWALKKEY\"]\n",
    "X_train = featurehash(X_train, hash_cols)\n",
    "X_train.head()"
   ]
  },
  {
   "cell_type": "code",
   "execution_count": 37,
   "metadata": {},
   "outputs": [
    {
     "data": {
      "text/html": [
       "<div>\n",
       "<style scoped>\n",
       "    .dataframe tbody tr th:only-of-type {\n",
       "        vertical-align: middle;\n",
       "    }\n",
       "\n",
       "    .dataframe tbody tr th {\n",
       "        vertical-align: top;\n",
       "    }\n",
       "\n",
       "    .dataframe thead th {\n",
       "        text-align: right;\n",
       "    }\n",
       "</style>\n",
       "<table border=\"1\" class=\"dataframe\">\n",
       "  <thead>\n",
       "    <tr style=\"text-align: right;\">\n",
       "      <th></th>\n",
       "      <th>Feature</th>\n",
       "      <th>Importance</th>\n",
       "    </tr>\n",
       "  </thead>\n",
       "  <tbody>\n",
       "    <tr>\n",
       "      <th>207</th>\n",
       "      <td>CROSSWALKKEY_29</td>\n",
       "      <td>0.0</td>\n",
       "    </tr>\n",
       "    <tr>\n",
       "      <th>174</th>\n",
       "      <td>SEGLANEKEY_26</td>\n",
       "      <td>0.0</td>\n",
       "    </tr>\n",
       "    <tr>\n",
       "      <th>173</th>\n",
       "      <td>SEGLANEKEY_25</td>\n",
       "      <td>0.0</td>\n",
       "    </tr>\n",
       "    <tr>\n",
       "      <th>172</th>\n",
       "      <td>SEGLANEKEY_24</td>\n",
       "      <td>0.0</td>\n",
       "    </tr>\n",
       "    <tr>\n",
       "      <th>171</th>\n",
       "      <td>SEGLANEKEY_23</td>\n",
       "      <td>0.0</td>\n",
       "    </tr>\n",
       "    <tr>\n",
       "      <th>170</th>\n",
       "      <td>SEGLANEKEY_22</td>\n",
       "      <td>0.0</td>\n",
       "    </tr>\n",
       "    <tr>\n",
       "      <th>166</th>\n",
       "      <td>SEGLANEKEY_18</td>\n",
       "      <td>0.0</td>\n",
       "    </tr>\n",
       "    <tr>\n",
       "      <th>165</th>\n",
       "      <td>SEGLANEKEY_17</td>\n",
       "      <td>0.0</td>\n",
       "    </tr>\n",
       "    <tr>\n",
       "      <th>164</th>\n",
       "      <td>SEGLANEKEY_16</td>\n",
       "      <td>0.0</td>\n",
       "    </tr>\n",
       "    <tr>\n",
       "      <th>175</th>\n",
       "      <td>SEGLANEKEY_27</td>\n",
       "      <td>0.0</td>\n",
       "    </tr>\n",
       "    <tr>\n",
       "      <th>163</th>\n",
       "      <td>SEGLANEKEY_15</td>\n",
       "      <td>0.0</td>\n",
       "    </tr>\n",
       "    <tr>\n",
       "      <th>160</th>\n",
       "      <td>SEGLANEKEY_12</td>\n",
       "      <td>0.0</td>\n",
       "    </tr>\n",
       "    <tr>\n",
       "      <th>158</th>\n",
       "      <td>SEGLANEKEY_10</td>\n",
       "      <td>0.0</td>\n",
       "    </tr>\n",
       "    <tr>\n",
       "      <th>157</th>\n",
       "      <td>SEGLANEKEY_9</td>\n",
       "      <td>0.0</td>\n",
       "    </tr>\n",
       "    <tr>\n",
       "      <th>154</th>\n",
       "      <td>SEGLANEKEY_6</td>\n",
       "      <td>0.0</td>\n",
       "    </tr>\n",
       "    <tr>\n",
       "      <th>153</th>\n",
       "      <td>SEGLANEKEY_5</td>\n",
       "      <td>0.0</td>\n",
       "    </tr>\n",
       "    <tr>\n",
       "      <th>152</th>\n",
       "      <td>SEGLANEKEY_4</td>\n",
       "      <td>0.0</td>\n",
       "    </tr>\n",
       "    <tr>\n",
       "      <th>149</th>\n",
       "      <td>SEGLANEKEY_1</td>\n",
       "      <td>0.0</td>\n",
       "    </tr>\n",
       "    <tr>\n",
       "      <th>206</th>\n",
       "      <td>CROSSWALKKEY_28</td>\n",
       "      <td>0.0</td>\n",
       "    </tr>\n",
       "    <tr>\n",
       "      <th>161</th>\n",
       "      <td>SEGLANEKEY_13</td>\n",
       "      <td>0.0</td>\n",
       "    </tr>\n",
       "    <tr>\n",
       "      <th>176</th>\n",
       "      <td>SEGLANEKEY_28</td>\n",
       "      <td>0.0</td>\n",
       "    </tr>\n",
       "    <tr>\n",
       "      <th>162</th>\n",
       "      <td>SEGLANEKEY_14</td>\n",
       "      <td>0.0</td>\n",
       "    </tr>\n",
       "    <tr>\n",
       "      <th>177</th>\n",
       "      <td>SEGLANEKEY_29</td>\n",
       "      <td>0.0</td>\n",
       "    </tr>\n",
       "    <tr>\n",
       "      <th>204</th>\n",
       "      <td>CROSSWALKKEY_26</td>\n",
       "      <td>0.0</td>\n",
       "    </tr>\n",
       "    <tr>\n",
       "      <th>203</th>\n",
       "      <td>CROSSWALKKEY_25</td>\n",
       "      <td>0.0</td>\n",
       "    </tr>\n",
       "    <tr>\n",
       "      <th>202</th>\n",
       "      <td>CROSSWALKKEY_24</td>\n",
       "      <td>0.0</td>\n",
       "    </tr>\n",
       "    <tr>\n",
       "      <th>201</th>\n",
       "      <td>CROSSWALKKEY_23</td>\n",
       "      <td>0.0</td>\n",
       "    </tr>\n",
       "    <tr>\n",
       "      <th>200</th>\n",
       "      <td>CROSSWALKKEY_22</td>\n",
       "      <td>0.0</td>\n",
       "    </tr>\n",
       "    <tr>\n",
       "      <th>196</th>\n",
       "      <td>CROSSWALKKEY_18</td>\n",
       "      <td>0.0</td>\n",
       "    </tr>\n",
       "    <tr>\n",
       "      <th>195</th>\n",
       "      <td>CROSSWALKKEY_17</td>\n",
       "      <td>0.0</td>\n",
       "    </tr>\n",
       "    <tr>\n",
       "      <th>194</th>\n",
       "      <td>CROSSWALKKEY_16</td>\n",
       "      <td>0.0</td>\n",
       "    </tr>\n",
       "    <tr>\n",
       "      <th>205</th>\n",
       "      <td>CROSSWALKKEY_27</td>\n",
       "      <td>0.0</td>\n",
       "    </tr>\n",
       "    <tr>\n",
       "      <th>193</th>\n",
       "      <td>CROSSWALKKEY_15</td>\n",
       "      <td>0.0</td>\n",
       "    </tr>\n",
       "    <tr>\n",
       "      <th>191</th>\n",
       "      <td>CROSSWALKKEY_13</td>\n",
       "      <td>0.0</td>\n",
       "    </tr>\n",
       "    <tr>\n",
       "      <th>190</th>\n",
       "      <td>CROSSWALKKEY_12</td>\n",
       "      <td>0.0</td>\n",
       "    </tr>\n",
       "    <tr>\n",
       "      <th>188</th>\n",
       "      <td>CROSSWALKKEY_10</td>\n",
       "      <td>0.0</td>\n",
       "    </tr>\n",
       "    <tr>\n",
       "      <th>187</th>\n",
       "      <td>CROSSWALKKEY_9</td>\n",
       "      <td>0.0</td>\n",
       "    </tr>\n",
       "    <tr>\n",
       "      <th>184</th>\n",
       "      <td>CROSSWALKKEY_6</td>\n",
       "      <td>0.0</td>\n",
       "    </tr>\n",
       "    <tr>\n",
       "      <th>183</th>\n",
       "      <td>CROSSWALKKEY_5</td>\n",
       "      <td>0.0</td>\n",
       "    </tr>\n",
       "    <tr>\n",
       "      <th>182</th>\n",
       "      <td>CROSSWALKKEY_4</td>\n",
       "      <td>0.0</td>\n",
       "    </tr>\n",
       "  </tbody>\n",
       "</table>\n",
       "</div>"
      ],
      "text/plain": [
       "             Feature  Importance\n",
       "207  CROSSWALKKEY_29         0.0\n",
       "174    SEGLANEKEY_26         0.0\n",
       "173    SEGLANEKEY_25         0.0\n",
       "172    SEGLANEKEY_24         0.0\n",
       "171    SEGLANEKEY_23         0.0\n",
       "170    SEGLANEKEY_22         0.0\n",
       "166    SEGLANEKEY_18         0.0\n",
       "165    SEGLANEKEY_17         0.0\n",
       "164    SEGLANEKEY_16         0.0\n",
       "175    SEGLANEKEY_27         0.0\n",
       "163    SEGLANEKEY_15         0.0\n",
       "160    SEGLANEKEY_12         0.0\n",
       "158    SEGLANEKEY_10         0.0\n",
       "157     SEGLANEKEY_9         0.0\n",
       "154     SEGLANEKEY_6         0.0\n",
       "153     SEGLANEKEY_5         0.0\n",
       "152     SEGLANEKEY_4         0.0\n",
       "149     SEGLANEKEY_1         0.0\n",
       "206  CROSSWALKKEY_28         0.0\n",
       "161    SEGLANEKEY_13         0.0\n",
       "176    SEGLANEKEY_28         0.0\n",
       "162    SEGLANEKEY_14         0.0\n",
       "177    SEGLANEKEY_29         0.0\n",
       "204  CROSSWALKKEY_26         0.0\n",
       "203  CROSSWALKKEY_25         0.0\n",
       "202  CROSSWALKKEY_24         0.0\n",
       "201  CROSSWALKKEY_23         0.0\n",
       "200  CROSSWALKKEY_22         0.0\n",
       "196  CROSSWALKKEY_18         0.0\n",
       "195  CROSSWALKKEY_17         0.0\n",
       "194  CROSSWALKKEY_16         0.0\n",
       "205  CROSSWALKKEY_27         0.0\n",
       "193  CROSSWALKKEY_15         0.0\n",
       "191  CROSSWALKKEY_13         0.0\n",
       "190  CROSSWALKKEY_12         0.0\n",
       "188  CROSSWALKKEY_10         0.0\n",
       "187   CROSSWALKKEY_9         0.0\n",
       "184   CROSSWALKKEY_6         0.0\n",
       "183   CROSSWALKKEY_5         0.0\n",
       "182   CROSSWALKKEY_4         0.0"
      ]
     },
     "execution_count": 37,
     "metadata": {},
     "output_type": "execute_result"
    }
   ],
   "source": [
    "from sklearn.ensemble import RandomForestClassifier\n",
    "model = RandomForestClassifier()\n",
    "model.fit(X_train,y_train)\n",
    "importance = model.feature_importances_\n",
    "# summarize feature importance\n",
    "less_imp = pd.DataFrame(columns=[\"Feature\", \"Importance\"]) \n",
    "for i,v in enumerate(importance):\n",
    "    less_imp = less_imp.append({\"Feature\":X_train.columns[i], \"Importance\":v}, ignore_index=True)\n",
    "less_imp.sort_values(by=[\"Importance\"], inplace=True)\n",
    "less_imp.iloc[:40, :]"
   ]
  },
  {
   "cell_type": "code",
   "execution_count": 38,
   "metadata": {},
   "outputs": [],
   "source": [
    "# Dropping 10 least important features\n",
    "X_train.drop(columns=less_imp.iloc[:40, :][\"Feature\"].to_list(), inplace=True)"
   ]
  },
  {
   "cell_type": "code",
   "execution_count": 39,
   "metadata": {},
   "outputs": [
    {
     "data": {
      "text/plain": [
       "<AxesSubplot:>"
      ]
     },
     "execution_count": 39,
     "metadata": {},
     "output_type": "execute_result"
    },
    {
     "data": {
      "image/png": "[encoded data removed]",
      "text/plain": [
       "<Figure size 432x288 with 2 Axes>"
      ]
     },
     "metadata": {},
     "output_type": "display_data"
    }
   ],
   "source": [
    "corr = X_train.corr()\n",
    "sns.heatmap(corr, vmin=-1, vmax=1, center= 0)"
   ]
  },
  {
   "cell_type": "code",
   "execution_count": 40,
   "metadata": {},
   "outputs": [
    {
     "name": "stdout",
     "output_type": "stream",
     "text": [
      "PEDCOUNT COLLISIONTYPE_Pedestrian 0.9455974863712838\n",
      "PEDCOUNT SDOT_COLCODE_24 0.9284001509821092\n",
      "PEDCYLCOUNT COLLISIONTYPE_Cycles 0.989863709514695\n",
      "PEDCYLCOUNT ST_COLCODE_45.0 0.9213836138998203\n",
      "ADDRTYPE_Block JUNCTIONTYPE_At Intersection (intersection related) -0.9714923909985959\n",
      "COLLISIONTYPE_Angles ST_COLCODE_10.0 1.0\n",
      "COLLISIONTYPE_Cycles ST_COLCODE_45.0 0.9305288610413508\n",
      "COLLISIONTYPE_Parked Car ST_COLCODE_32.0 0.9472288774207903\n",
      "COLLISIONTYPE_Pedestrian SDOT_COLCODE_24 0.9747115164191715\n",
      "COLLISIONTYPE_Right Turn ST_COLCODE_16.0 1.0\n"
     ]
    }
   ],
   "source": [
    "# Finding features with > 90% correlation\n",
    "import itertools\n",
    "for i, j in itertools.combinations(corr.columns, 2):\n",
    "    if abs(corr.loc[i, j])>0.90:\n",
    "        print(i,j, corr.loc[i, j])"
   ]
  },
  {
   "cell_type": "code",
   "execution_count": 41,
   "metadata": {},
   "outputs": [],
   "source": [
    "# Dropping these highly correlated columns\n",
    "X_train.drop(columns=[\"COLLISIONTYPE_Pedestrian\", \"COLLISIONTYPE_Cycles\", \"JUNCTIONTYPE_At Intersection (intersection related)\", \n",
    "                      \"SDOT_COLCODE_24\", \"ST_COLCODE_45.0\", \"ST_COLCODE_10.0\", \"ST_COLCODE_32.0\", \"ST_COLCODE_16.0\"], inplace=True)"
   ]
  },
  {
   "cell_type": "code",
   "execution_count": 42,
   "metadata": {},
   "outputs": [],
   "source": [
    "from sklearn.model_selection import cross_val_score, cross_val_predict\n",
    "from xgboost import XGBClassifier\n",
    "from sklearn.metrics import confusion_matrix, accuracy_score, classification_report,roc_curve, roc_auc_score"
   ]
  },
  {
   "cell_type": "code",
   "execution_count": 43,
   "metadata": {},
   "outputs": [
    {
     "name": "stdout",
     "output_type": "stream",
     "text": [
      "Model: Random Forest\n",
      "Accuracy: 74.22%\n",
      "Report:\n",
      "              precision    recall  f1-score   support\n",
      "\n",
      "           1       0.77      0.90      0.83     88388\n",
      "           2       0.64      0.39      0.48     39646\n",
      "\n",
      "    accuracy                           0.74    128034\n",
      "   macro avg       0.70      0.64      0.66    128034\n",
      "weighted avg       0.73      0.74      0.72    128034\n",
      "\n"
     ]
    }
   ],
   "source": [
    "rnf = RandomForestClassifier(random_state = 42)\n",
    "train_predicted = cross_val_predict(rnf, X_train, y_train, cv=5)\n",
    "accuracy = accuracy_score(y_train, train_predicted)\n",
    "print(\"Model: Random Forest\")\n",
    "print(\"Accuracy: %.2f%%\" % (accuracy * 100.0))\n",
    "print(\"Report:\")\n",
    "print(classification_report(y_train,train_predicted))"
   ]
  },
  {
   "cell_type": "code",
   "execution_count": 44,
   "metadata": {},
   "outputs": [
    {
     "name": "stdout",
     "output_type": "stream",
     "text": [
      "Model: XG Boost\n",
      "Accuracy: 75.49%\n",
      "Report:\n",
      "              precision    recall  f1-score   support\n",
      "\n",
      "           1       0.76      0.94      0.84     88388\n",
      "           2       0.71      0.35      0.47     39646\n",
      "\n",
      "    accuracy                           0.75    128034\n",
      "   macro avg       0.74      0.64      0.66    128034\n",
      "weighted avg       0.75      0.75      0.73    128034\n",
      "\n"
     ]
    }
   ],
   "source": [
    "xgb_clf = XGBClassifier(random_state = 42)\n",
    "train_predicted = cross_val_predict(xgb_clf, X_train, y_train, cv=5)\n",
    "accuracy = accuracy_score(y_train, train_predicted)\n",
    "print(\"Model: XG Boost\")\n",
    "print(\"Accuracy: %.2f%%\" % (accuracy * 100.0))\n",
    "print(\"Report:\")\n",
    "print(classification_report(y_train,train_predicted))"
   ]
  },
  {
   "cell_type": "code",
   "execution_count": 45,
   "metadata": {},
   "outputs": [
    {
     "name": "stdout",
     "output_type": "stream",
     "text": [
      "Accuracy: 69.42%\n",
      "Report:\n",
      "              precision    recall  f1-score   support\n",
      "\n",
      "           1       0.86      0.66      0.75     88388\n",
      "           2       0.50      0.76      0.61     39646\n",
      "\n",
      "    accuracy                           0.69    128034\n",
      "   macro avg       0.68      0.71      0.68    128034\n",
      "weighted avg       0.75      0.69      0.71    128034\n",
      "\n"
     ]
    }
   ],
   "source": [
    "# Not Using Oversampling for now as it is decreasing accuracy and not improving f1 very much.\n",
    "\n",
    "# Scoring with oversampling to remove imballance\n",
    "from sklearn.model_selection import StratifiedKFold \n",
    "from imblearn.over_sampling import SMOTE\n",
    "\n",
    "kf = StratifiedKFold(n_splits=10)\n",
    "cv_actual = []\n",
    "cv_pred = []\n",
    "X_train_numpy = X_train.to_numpy()\n",
    "\n",
    "for fold, (train_index, test_index) in enumerate(kf.split(X_train_numpy, y_train), 1):\n",
    "    X_train_cv = X_train_numpy[train_index]\n",
    "    y_train_cv = y_train[train_index]\n",
    "    X_test_cv = X_train_numpy[test_index]\n",
    "    y_test_cv = y_train[test_index]\n",
    "    sm = SMOTE()\n",
    "    X_train_oversampled, y_train_oversampled = sm.fit_sample(X_train_cv, y_train_cv)\n",
    "    model = xgb_clf\n",
    "    model.fit(X_train_oversampled, y_train_oversampled )  \n",
    "    y_pred = model.predict(X_test_cv)\n",
    "    cv_pred.extend(y_pred)\n",
    "    cv_actual.extend(y_test_cv)\n",
    "\n",
    "accuracy = accuracy_score(cv_actual, cv_pred)\n",
    "print(\"Accuracy: %.2f%%\" % (accuracy * 100.0))\n",
    "print(\"Report:\")\n",
    "print(classification_report(cv_actual,cv_pred))"
   ]
  },
  {
   "cell_type": "code",
   "execution_count": 46,
   "metadata": {},
   "outputs": [
    {
     "name": "stdout",
     "output_type": "stream",
     "text": [
      "Fitting 5 folds for each of 9 candidates, totalling 45 fits\n"
     ]
    },
    {
     "name": "stderr",
     "output_type": "stream",
     "text": [
      "[Parallel(n_jobs=4)]: Using backend LokyBackend with 4 concurrent workers.\n",
      "[Parallel(n_jobs=4)]: Done  45 out of  45 | elapsed: 18.3min finished\n"
     ]
    },
    {
     "name": "stdout",
     "output_type": "stream",
     "text": [
      "{'max_depth': 7, 'min_child_weight': 4} 0.8000032906589803\n"
     ]
    }
   ],
   "source": [
    "from sklearn.model_selection import GridSearchCV\n",
    "# max_depth - Maximum depth of a tree. Increasing this value will make the model more complex and more likely to overfit.\n",
    "# min_child_weight - Minimum sum of instance weight (hessian) needed in a child.\n",
    "\n",
    "xgb_clf = XGBClassifier(random_state = 42, learning_rate =0.1, n_estimators=140, max_depth=6, \n",
    "                        min_child_weight=1, gamma=0, subsample=0.8, colsample_bytree=0.8, \n",
    "                        objective= 'binary:logistic', nthread=4, scale_pos_weight=1)\n",
    "\n",
    "param_test1 = {'max_depth':range(5,8,1), 'min_child_weight':range(3,6,1)}\n",
    "\n",
    "grid_search1 = GridSearchCV(estimator=xgb_clf, param_grid=param_test1, scoring='roc_auc', n_jobs=4, cv=5, verbose=True)\n",
    "\n",
    "grid_search1.fit(X_train,y_train)\n",
    "print(grid_search1.best_params_, grid_search1.best_score_)"
   ]
  },
  {
   "cell_type": "code",
   "execution_count": 47,
   "metadata": {},
   "outputs": [
    {
     "name": "stdout",
     "output_type": "stream",
     "text": [
      "Fitting 5 folds for each of 3 candidates, totalling 15 fits\n"
     ]
    },
    {
     "name": "stderr",
     "output_type": "stream",
     "text": [
      "[Parallel(n_jobs=4)]: Using backend LokyBackend with 4 concurrent workers.\n",
      "[Parallel(n_jobs=4)]: Done  15 out of  15 | elapsed:  6.1min finished\n"
     ]
    },
    {
     "name": "stdout",
     "output_type": "stream",
     "text": [
      "{'gamma': 0.0} 0.799968091097784\n"
     ]
    }
   ],
   "source": [
    "# gamma/min_split_loss - Minimum loss reduction required to make a further partition on a leaf node of the tree. \n",
    "# The larger gamma is, the more conservative the algorithm will be.\n",
    "\n",
    "param_test2 = {'gamma':[i/10.0 for i in range(0,3)]}\n",
    "\n",
    "xgb_clf = XGBClassifier(random_state = 42, learning_rate =0.1, n_estimators=140, max_depth=6, \n",
    "                        min_chil# gamma/min_split_loss - Minimum loss reduction required to make a further partition on a leaf node of the tree. \n",
    "# The larger gamma is, the more conservative the algorithm will be.\n",
    "\n",
    "param_test2 = {'gamma':[i/10.0 for i in range(0,3)]}\n",
    "\n",
    "xgb_clf = XGBClassifier(random_state = 42, learning_rate =0.1, n_estimators=140, max_depth=6, \n",
    "                        min_child_weight=4, gamma=0, subsample=0.8, colsample_bytree=0.8, \n",
    "                        objective= 'binary:logistic', nthread=4, scale_pos_weight=1)\n",
    "\n",
    "grid_search2 = GridSearchCV(estimator=xgb_clf, param_grid=param_test2, scoring='roc_auc', n_jobs=4, cv=5, verbose=True)\n",
    "\n",
    "grid_search2.fit(X_train,y_train)\n",
    "print(grid_search2.best_params_, grid_search2.best_score_)d_weight=4, gamma=0, subsample=0.8, colsample_bytree=0.8, \n",
    "                        objective= 'binary:logistic', nthread=4, scale_pos_weight=1)\n",
    "\n",
    "grid_search2 = GridSearchCV(estimator=xgb_clf, param_grid=param_test2, scoring='roc_auc', n_jobs=4, cv=5, verbose=True)\n",
    "\n",
    "grid_search2.fit(X_train,y_train)\n",
    "print(grid_search2.best_params_, grid_search2.best_score_)"
   ]
  },
  {
   "cell_type": "code",
   "execution_count": 48,
   "metadata": {},
   "outputs": [
    {
     "name": "stdout",
     "output_type": "stream",
     "text": [
      "Fitting 5 folds for each of 9 candidates, totalling 45 fits\n"
     ]
    },
    {
     "name": "stderr",
     "output_type": "stream",
     "text": [
      "[Parallel(n_jobs=4)]: Using backend LokyBackend with 4 concurrent workers.\n",
      "[Parallel(n_jobs=4)]: Done  45 out of  45 | elapsed: 17.8min finished\n"
     ]
    },
    {
     "name": "stdout",
     "output_type": "stream",
     "text": [
      "{'colsample_bytree': 0.8, 'subsample': 0.8} 0.799968091097784\n"
     ]
    }
   ],
   "source": [
    "# subsample - Subsample ratio of the training instances. Setting it to 0.5 means that XGBoost would randomly sample half of the training data prior to growing trees. \n",
    "# and this will prevent overfitting.Subsampling will occur once in every boosting iteration.\n",
    "\n",
    "# colsample_bytree - Parameter for subsampling of columns. The subsample ratio of columns when constructing each tree. \n",
    "# Subsampling occurs once for every tree constructed.\n",
    "\n",
    "param_test3 = {'subsample':[i/10.0 for i in range(6,9)], 'colsample_bytree':[i/10.0 for i in range(6,9)]}\n",
    "\n",
    "xgb_clf = XGBClassifier(random_state = 42, learning_rate =0.1, n_estimators=140, max_depth=6, \n",
    "                        min_child_weight=4, gamma=0, subsample=0.8, colsample_bytree=0.8, \n",
    "                        objective= 'binary:logistic', nthread=4, scale_pos_weight=1)\n",
    "\n",
    "grid_search3 = GridSearchCV(estimator=xgb_clf, param_grid=param_test3, scoring='roc_auc', n_jobs=4, cv=5, verbose=True)\n",
    "\n",
    "grid_search3.fit(X_train,y_train)\n",
    "print(grid_search3.best_params_, grid_search3.best_score_)"
   ]
  },
  {
   "cell_type": "code",
   "execution_count": 49,
   "metadata": {},
   "outputs": [
    {
     "name": "stdout",
     "output_type": "stream",
     "text": [
      "Fitting 5 folds for each of 9 candidates, totalling 45 fits\n"
     ]
    },
    {
     "name": "stderr",
     "output_type": "stream",
     "text": [
      "[Parallel(n_jobs=4)]: Using backend LokyBackend with 4 concurrent workers.\n",
      "[Parallel(n_jobs=4)]: Done  45 out of  45 | elapsed: 17.9min finished\n"
     ]
    },
    {
     "name": "stdout",
     "output_type": "stream",
     "text": [
      "{'reg_alpha': 1, 'reg_lambda': 0.05} 0.8000505285639103\n"
     ]
    }
   ],
   "source": [
    "# alpha/reg_alpha - L1 regularization term on weights. Increasing this value will make model more conservative.\n",
    "# lambda/reg_lambda - L2 regularization term on weights. Increasing this value will make model more conservative.\n",
    "\n",
    "param_test4 = {'reg_alpha':[0.5, 1, 10], 'reg_lambda':[0.00005, 0.05, 0.1]}\n",
    "\n",
    "xgb_clf = XGBClassifier(random_state = 42, learning_rate =0.1, n_estimators=140, max_depth=6, reg_alpha=1,\n",
    "                        min_child_weight=4, gamma=0, subsample=0.7, colsample_bytree=0.7, \n",
    "                        objective= 'binary:logistic', nthread=4, scale_pos_weight=1, reg_lambda=0.05)\n",
    "\n",
    "grid_search4 = GridSearchCV(estimator=xgb_clf, param_grid=param_test4, scoring='roc_auc', n_jobs=4, cv=5, verbose=True)\n",
    "\n",
    "grid_search4.fit(X_train,y_train)\n",
    "print(grid_search4.best_params_, grid_search4.best_score_)"
   ]
  },
  {
   "cell_type": "code",
   "execution_count": 50,
   "metadata": {},
   "outputs": [
    {
     "name": "stdout",
     "output_type": "stream",
     "text": [
      "Fitting 5 folds for each of 9 candidates, totalling 45 fits\n"
     ]
    },
    {
     "name": "stderr",
     "output_type": "stream",
     "text": [
      "[Parallel(n_jobs=4)]: Using backend LokyBackend with 4 concurrent workers.\n",
      "[Parallel(n_jobs=4)]: Done  45 out of  45 | elapsed: 23.6min finished\n"
     ]
    },
    {
     "name": "stdout",
     "output_type": "stream",
     "text": [
      "{'learning_rate': 0.1, 'n_estimators': 170} 0.8001438064465919\n"
     ]
    }
   ],
   "source": [
    "# eta/learning_rate - Step size shrinkage used in update to prevents overfitting. After each boosting step, we can directly get the weights of new features, \n",
    "# and eta shrinks the feature weights to make the boosting process more conservative.\n",
    "\n",
    "param_test5 = {'learning_rate':[0.05, 0.1, 0.3], 'n_estimators':[160, 170, 180]}\n",
    "\n",
    "xgb_clf = XGBClassifier(random_state = 42, learning_rate =0.1, n_estimators=170, max_depth=6, reg_alpha=1,\n",
    "                        min_child_weight=4, gamma=0, subsample=0.7, colsample_bytree=0.7, \n",
    "                        objective= 'binary:logistic', nthread=4, scale_pos_weight=1, reg_lambda=0.05)\n",
    "\n",
    "grid_search5 = GridSearchCV(estimator=xgb_clf, param_grid=param_test5, scoring='roc_auc', n_jobs=4, cv=5, verbose=True)\n",
    "\n",
    "grid_search5.fit(X_train,y_train)\n",
    "print(grid_search5.best_params_, grid_search5.best_score_)"
   ]
  },
  {
   "cell_type": "code",
   "execution_count": 51,
   "metadata": {},
   "outputs": [
    {
     "name": "stdout",
     "output_type": "stream",
     "text": [
      "Model: XG Boost\n",
      "Accuracy: 75.50%\n",
      "Report:\n",
      "              precision    recall  f1-score   support\n",
      "\n",
      "           1       0.76      0.94      0.84     88388\n",
      "           2       0.71      0.35      0.47     39646\n",
      "\n",
      "    accuracy                           0.76    128034\n",
      "   macro avg       0.74      0.64      0.65    128034\n",
      "weighted avg       0.75      0.76      0.73    128034\n",
      "\n"
     ]
    }
   ],
   "source": [
    "xgb_clf = XGBClassifier(random_state = 42, learning_rate =0.1, n_estimators=170, max_depth=6, reg_alpha=1, \n",
    "                        min_child_weight=4, gamma=0, subsample=0.7, colsample_bytree=0.7, objective= 'binary:logistic', \n",
    "                        nthread=4, scale_pos_weight=1, reg_lambda=0.05)\n",
    "train_predicted = cross_val_predict(xgb_clf, X_train, y_train, cv=5)\n",
    "accuracy = accuracy_score(y_train, train_predicted)\n",
    "print(\"Model: XG Boost\")\n",
    "print(\"Accuracy: %.2f%%\" % (accuracy * 100.0))\n",
    "print(\"Report:\")\n",
    "print(classification_report(y_train,train_predicted))"
   ]
  },
  {
   "cell_type": "code",
   "execution_count": 52,
   "metadata": {},
   "outputs": [
    {
     "data": {
      "text/plain": [
       "XGBClassifier(base_score=0.5, booster='gbtree', colsample_bylevel=1,\n",
       "              colsample_bynode=1, colsample_bytree=0.7, gamma=0, gpu_id=-1,\n",
       "              importance_type='gain', interaction_constraints='',\n",
       "              learning_rate=0.1, max_delta_step=0, max_depth=6,\n",
       "              min_child_weight=4, missing=nan, monotone_constraints='()',\n",
       "              n_estimators=170, n_jobs=4, nthread=4, num_parallel_tree=1,\n",
       "              random_state=42, reg_alpha=1, reg_lambda=0.05, scale_pos_weight=1,\n",
       "              subsample=0.7, tree_method='exact', validate_parameters=1,\n",
       "              verbosity=None)"
      ]
     },
     "execution_count": 52,
     "metadata": {},
     "output_type": "execute_result"
    }
   ],
   "source": [
    "final_model = XGBClassifier(random_state = 42, learning_rate =0.1, n_estimators=170, max_depth=6, reg_alpha=1, \n",
    "                            min_child_weight=4, gamma=0, subsample=0.7, colsample_bytree=0.7, \n",
    "                            objective= 'binary:logistic', nthread=4, scale_pos_weight=1, reg_lambda=0.05)\n",
    "final_model.fit(X_train, y_train)"
   ]
  },
  {
   "cell_type": "code",
   "execution_count": 53,
   "metadata": {},
   "outputs": [
    {
     "data": {
      "text/plain": [
       "<module 'matplotlib.pyplot' from 'C:\\\\Users\\\\aryam\\\\anaconda3\\\\lib\\\\site-packages\\\\matplotlib\\\\pyplot.py'>"
      ]
     },
     "execution_count": 53,
     "metadata": {},
     "output_type": "execute_result"
    },
    {
     "data": {
      "image/png": "[encoded data removed]",
      "text/plain": [
       "<Figure size 432x288 with 1 Axes>"
      ]
     },
     "metadata": {},
     "output_type": "display_data"
    }
   ],
   "source": [
    "#Plotting Learning curve wrt xgboost model\n",
    "\n",
    "from sklearn.model_selection import learning_curve\n",
    "def Learning_curve_model(X, Y, model, cv, train_sizes):\n",
    "\n",
    "    plt.figure()\n",
    "    plt.title(\"Learning curve\")\n",
    "    plt.xlabel(\"Training examples\")\n",
    "    plt.ylabel(\"Score\")\n",
    "\n",
    "\n",
    "    train_sizes, train_scores, test_scores = learning_curve(model, X, Y, cv=cv, n_jobs=4, train_sizes=train_sizes)\n",
    "\n",
    "    train_scores_mean = np.mean(train_scores, axis=1)\n",
    "    train_scores_std  = np.std(train_scores, axis=1)\n",
    "    test_scores_mean  = np.mean(test_scores, axis=1)\n",
    "    test_scores_std   = np.std(test_scores, axis=1)\n",
    "    plt.grid()\n",
    "    \n",
    "    plt.fill_between(train_sizes, train_scores_mean - train_scores_std,train_scores_mean + train_scores_std, alpha=0.1,\n",
    "                     color=\"r\")\n",
    "    plt.fill_between(train_sizes, test_scores_mean - test_scores_std,test_scores_mean + test_scores_std, alpha=0.1, color=\"g\")\n",
    "    plt.plot(train_sizes, train_scores_mean, 'o-', color=\"r\",label=\"Training score\")\n",
    "    plt.plot(train_sizes, test_scores_mean, 'o-', color=\"g\",label=\"Cross-validation score\")\n",
    "                     \n",
    "    plt.legend(loc=\"best\")\n",
    "    return plt\n",
    "cv = 10\n",
    "train_size=np.linspace(.1, 1.0, 15)\n",
    "Learning_curve_model(X_train, y_train, final_model, cv, train_size)"
   ]
  },
  {
   "cell_type": "code",
   "execution_count": 54,
   "metadata": {},
   "outputs": [],
   "source": [
    "def one_hot_test(df):\n",
    "    global oh_encodings\n",
    "    for col, encodes in oh_encodings.items():\n",
    "        for encode in encodes:\n",
    "            category = encode.split('_')[1]\n",
    "            df[encode] = df[col].apply(lambda x: 1 if x==category else 0)\n",
    "        df.drop(columns=[col], inplace = True)\n",
    "    return df\n"
   ]
  },
  {
   "cell_type": "code",
   "execution_count": 55,
   "metadata": {},
   "outputs": [],
   "source": [
    "def featurehashing_test(df):\n",
    "    global hashing_dict\n",
    "    for col, fh in hashing_dict.items():\n",
    "        df[col] = df[col].astype(str)\n",
    "        hashed_features = fh.transform(df[col])\n",
    "        hashed_features = hashed_features.toarray()\n",
    "        dummy = pd.DataFrame(hashed_features)\n",
    "        for name in dummy.columns:\n",
    "            dummy.rename(columns={name:col+'_'+str(name)}, inplace=True)\n",
    "        df = pd.concat([df, dummy], axis=1)\n",
    "        df.drop(columns=[col], inplace = True)\n",
    "    return df"
   ]
  },
  {
   "cell_type": "code",
   "execution_count": 56,
   "metadata": {},
   "outputs": [],
   "source": [
    "def preprocessing(df):\n",
    "    global less_imp\n",
    "    df[\"UNDERINFL\"] = df[\"UNDERINFL\"].apply(lambda x: 'N' if x=='0' else 'Y' if x=='1' else x)\n",
    "    df[\"ST_COLCODE\"] = df[\"ST_COLCODE\"].apply(lambda x: np.nan if x==' ' else int(x) if isinstance(x, str) else x)\n",
    "    df[\"HITPARKEDCAR\"] = df[\"HITPARKEDCAR\"].apply(lambda x: 1 if x=='Y' else 0)\n",
    "    df[\"UNDERINFL\"] = df[\"UNDERINFL\"].apply(lambda x: 1 if x=='Y' else 0)\n",
    "    df = one_hot_test(df)\n",
    "    df = featurehashing_test(df)\n",
    "    df.drop(columns=less_imp.iloc[:40, :][\"Feature\"].to_list(), inplace=True)\n",
    "    df.drop(columns=[\"COLLISIONTYPE_Pedestrian\", \"COLLISIONTYPE_Cycles\", \n",
    "                     \"JUNCTIONTYPE_At Intersection (intersection related)\", \"SDOT_COLCODE_24\", \n",
    "                     \"ST_COLCODE_45.0\", \"ST_COLCODE_10.0\", \"ST_COLCODE_32.0\", \"ST_COLCODE_16.0\"], inplace=True)\n",
    "    return df"
   ]
  },
  {
   "cell_type": "code",
   "execution_count": 57,
   "metadata": {},
   "outputs": [],
   "source": [
    "y_test = y_test.values.ravel()\n",
    "X_test.reset_index(drop=True, inplace=True)\n",
    "X_test = preprocessing(X_test)"
   ]
  },
  {
   "cell_type": "code",
   "execution_count": 58,
   "metadata": {},
   "outputs": [],
   "source": [
    "prediction = final_model.predict(X_test)"
   ]
  },
  {
   "cell_type": "code",
   "execution_count": 59,
   "metadata": {},
   "outputs": [
    {
     "name": "stdout",
     "output_type": "stream",
     "text": [
      "Final Result\n",
      "Accuracy: 75.82%\n",
      "Report:\n",
      "              precision    recall  f1-score   support\n",
      "\n",
      "           1       0.75      0.97      0.85     40946\n",
      "           2       0.81      0.25      0.38     17456\n",
      "\n",
      "    accuracy                           0.76     58402\n",
      "   macro avg       0.78      0.61      0.62     58402\n",
      "weighted avg       0.77      0.76      0.71     58402\n",
      "\n"
     ]
    }
   ],
   "source": [
    "accuracy = accuracy_score(y_test, prediction)\n",
    "print(\"Final Result\")\n",
    "print(\"Accuracy: %.2f%%\" % (accuracy * 100.0))\n",
    "print(\"Report:\")\n",
    "print(classification_report(y_test,prediction))"
   ]
  },
  {
   "cell_type": "code",
   "execution_count": 60,
   "metadata": {},
   "outputs": [
    {
     "name": "stdout",
     "output_type": "stream",
     "text": [
      "0.738593666129898\n"
     ]
    }
   ],
   "source": [
    "from sklearn.metrics import jaccard_score\n",
    "print(jaccard_score(y_test, prediction))"
   ]
  }
 ],
 "metadata": {
  "kernelspec": {
   "display_name": "Python 3",
   "language": "python",
   "name": "python3"
  },
  "language_info": {
   "codemirror_mode": {
    "name": "ipython",
    "version": 3
   },
   "file_extension": ".py",
   "mimetype": "text/x-python",
   "name": "python",
   "nbconvert_exporter": "python",
   "pygments_lexer": "ipython3",
   "version": "3.7.1"
  }
 },
 "nbformat": 4,
 "nbformat_minor": 4
}
